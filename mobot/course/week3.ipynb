{
 "cells": [
  {
   "cell_type": "markdown",
   "id": "4f698148-a5b5-4f81-9a79-e2444fa00c21",
   "metadata": {},
   "source": [
    "# 本节大纲\n",
    "\n",
    "1. 版本介绍，15分钟\n",
    "2. 嵌入模型，30分钟\n",
    "3. 向量数据库，30分钟\n",
    "4. 大语言模型，30分钟\n",
    "5. 答疑和总结，15分钟"
   ]
  },
  {
   "cell_type": "code",
   "execution_count": 1,
   "id": "382c7d57-33a4-4dfd-a884-5c541ccd0f73",
   "metadata": {},
   "outputs": [
    {
     "name": "stdout",
     "output_type": "stream",
     "text": [
      "Requirement already satisfied: sentence-transformers in /home/ml/anaconda3/envs/mobot/lib/python3.10/site-packages (2.2.2)\n",
      "Requirement already satisfied: pymilvus in /home/ml/anaconda3/envs/mobot/lib/python3.10/site-packages (2.3.0)\n",
      "Requirement already satisfied: transformers<5.0.0,>=4.6.0 in /home/ml/anaconda3/envs/mobot/lib/python3.10/site-packages (from sentence-transformers) (4.33.2)\n",
      "Requirement already satisfied: tqdm in /home/ml/anaconda3/envs/mobot/lib/python3.10/site-packages (from sentence-transformers) (4.66.1)\n",
      "Requirement already satisfied: torch>=1.6.0 in /home/ml/anaconda3/envs/mobot/lib/python3.10/site-packages (from sentence-transformers) (2.0.1)\n",
      "Requirement already satisfied: torchvision in /home/ml/anaconda3/envs/mobot/lib/python3.10/site-packages (from sentence-transformers) (0.15.2)\n",
      "Requirement already satisfied: numpy in /home/ml/anaconda3/envs/mobot/lib/python3.10/site-packages (from sentence-transformers) (1.26.0)\n",
      "Requirement already satisfied: scikit-learn in /home/ml/anaconda3/envs/mobot/lib/python3.10/site-packages (from sentence-transformers) (1.3.0)\n",
      "Requirement already satisfied: scipy in /home/ml/anaconda3/envs/mobot/lib/python3.10/site-packages (from sentence-transformers) (1.11.2)\n",
      "Requirement already satisfied: nltk in /home/ml/anaconda3/envs/mobot/lib/python3.10/site-packages (from sentence-transformers) (3.8.1)\n",
      "Requirement already satisfied: sentencepiece in /home/ml/anaconda3/envs/mobot/lib/python3.10/site-packages (from sentence-transformers) (0.1.99)\n",
      "Requirement already satisfied: huggingface-hub>=0.4.0 in /home/ml/anaconda3/envs/mobot/lib/python3.10/site-packages (from sentence-transformers) (0.17.2)\n",
      "Requirement already satisfied: grpcio<=1.56.0,>=1.49.1 in /home/ml/anaconda3/envs/mobot/lib/python3.10/site-packages (from pymilvus) (1.56.0)\n",
      "Requirement already satisfied: protobuf>=3.20.0 in /home/ml/anaconda3/envs/mobot/lib/python3.10/site-packages (from pymilvus) (4.24.3)\n",
      "Requirement already satisfied: environs<=9.5.0 in /home/ml/anaconda3/envs/mobot/lib/python3.10/site-packages (from pymilvus) (9.5.0)\n",
      "Requirement already satisfied: ujson>=2.0.0 in /home/ml/anaconda3/envs/mobot/lib/python3.10/site-packages (from pymilvus) (5.8.0)\n",
      "Requirement already satisfied: pandas>=1.2.4 in /home/ml/anaconda3/envs/mobot/lib/python3.10/site-packages (from pymilvus) (2.1.0)\n",
      "Requirement already satisfied: marshmallow>=3.0.0 in /home/ml/anaconda3/envs/mobot/lib/python3.10/site-packages (from environs<=9.5.0->pymilvus) (3.20.1)\n",
      "Requirement already satisfied: python-dotenv in /home/ml/anaconda3/envs/mobot/lib/python3.10/site-packages (from environs<=9.5.0->pymilvus) (1.0.0)\n",
      "Requirement already satisfied: filelock in /home/ml/anaconda3/envs/mobot/lib/python3.10/site-packages (from huggingface-hub>=0.4.0->sentence-transformers) (3.12.4)\n",
      "Requirement already satisfied: fsspec in /home/ml/anaconda3/envs/mobot/lib/python3.10/site-packages (from huggingface-hub>=0.4.0->sentence-transformers) (2023.6.0)\n",
      "Requirement already satisfied: requests in /home/ml/anaconda3/envs/mobot/lib/python3.10/site-packages (from huggingface-hub>=0.4.0->sentence-transformers) (2.31.0)\n",
      "Requirement already satisfied: pyyaml>=5.1 in /home/ml/anaconda3/envs/mobot/lib/python3.10/site-packages (from huggingface-hub>=0.4.0->sentence-transformers) (6.0.1)\n",
      "Requirement already satisfied: typing-extensions>=3.7.4.3 in /home/ml/anaconda3/envs/mobot/lib/python3.10/site-packages (from huggingface-hub>=0.4.0->sentence-transformers) (4.8.0)\n",
      "Requirement already satisfied: packaging>=20.9 in /home/ml/anaconda3/envs/mobot/lib/python3.10/site-packages (from huggingface-hub>=0.4.0->sentence-transformers) (23.1)\n",
      "Requirement already satisfied: python-dateutil>=2.8.2 in /home/ml/anaconda3/envs/mobot/lib/python3.10/site-packages (from pandas>=1.2.4->pymilvus) (2.8.2)\n",
      "Requirement already satisfied: pytz>=2020.1 in /home/ml/anaconda3/envs/mobot/lib/python3.10/site-packages (from pandas>=1.2.4->pymilvus) (2023.3.post1)\n",
      "Requirement already satisfied: tzdata>=2022.1 in /home/ml/anaconda3/envs/mobot/lib/python3.10/site-packages (from pandas>=1.2.4->pymilvus) (2023.3)\n",
      "Requirement already satisfied: sympy in /home/ml/anaconda3/envs/mobot/lib/python3.10/site-packages (from torch>=1.6.0->sentence-transformers) (1.12)\n",
      "Requirement already satisfied: networkx in /home/ml/anaconda3/envs/mobot/lib/python3.10/site-packages (from torch>=1.6.0->sentence-transformers) (3.1)\n",
      "Requirement already satisfied: jinja2 in /home/ml/anaconda3/envs/mobot/lib/python3.10/site-packages (from torch>=1.6.0->sentence-transformers) (3.1.2)\n",
      "Requirement already satisfied: nvidia-cuda-nvrtc-cu11==11.7.99 in /home/ml/anaconda3/envs/mobot/lib/python3.10/site-packages (from torch>=1.6.0->sentence-transformers) (11.7.99)\n",
      "Requirement already satisfied: nvidia-cuda-runtime-cu11==11.7.99 in /home/ml/anaconda3/envs/mobot/lib/python3.10/site-packages (from torch>=1.6.0->sentence-transformers) (11.7.99)\n",
      "Requirement already satisfied: nvidia-cuda-cupti-cu11==11.7.101 in /home/ml/anaconda3/envs/mobot/lib/python3.10/site-packages (from torch>=1.6.0->sentence-transformers) (11.7.101)\n",
      "Requirement already satisfied: nvidia-cudnn-cu11==8.5.0.96 in /home/ml/anaconda3/envs/mobot/lib/python3.10/site-packages (from torch>=1.6.0->sentence-transformers) (8.5.0.96)\n",
      "Requirement already satisfied: nvidia-cublas-cu11==11.10.3.66 in /home/ml/anaconda3/envs/mobot/lib/python3.10/site-packages (from torch>=1.6.0->sentence-transformers) (11.10.3.66)\n",
      "Requirement already satisfied: nvidia-cufft-cu11==10.9.0.58 in /home/ml/anaconda3/envs/mobot/lib/python3.10/site-packages (from torch>=1.6.0->sentence-transformers) (10.9.0.58)\n",
      "Requirement already satisfied: nvidia-curand-cu11==10.2.10.91 in /home/ml/anaconda3/envs/mobot/lib/python3.10/site-packages (from torch>=1.6.0->sentence-transformers) (10.2.10.91)\n",
      "Requirement already satisfied: nvidia-cusolver-cu11==11.4.0.1 in /home/ml/anaconda3/envs/mobot/lib/python3.10/site-packages (from torch>=1.6.0->sentence-transformers) (11.4.0.1)\n",
      "Requirement already satisfied: nvidia-cusparse-cu11==11.7.4.91 in /home/ml/anaconda3/envs/mobot/lib/python3.10/site-packages (from torch>=1.6.0->sentence-transformers) (11.7.4.91)\n",
      "Requirement already satisfied: nvidia-nccl-cu11==2.14.3 in /home/ml/anaconda3/envs/mobot/lib/python3.10/site-packages (from torch>=1.6.0->sentence-transformers) (2.14.3)\n",
      "Requirement already satisfied: nvidia-nvtx-cu11==11.7.91 in /home/ml/anaconda3/envs/mobot/lib/python3.10/site-packages (from torch>=1.6.0->sentence-transformers) (11.7.91)\n",
      "Requirement already satisfied: triton==2.0.0 in /home/ml/anaconda3/envs/mobot/lib/python3.10/site-packages (from torch>=1.6.0->sentence-transformers) (2.0.0)\n",
      "Requirement already satisfied: setuptools in /home/ml/anaconda3/envs/mobot/lib/python3.10/site-packages (from nvidia-cublas-cu11==11.10.3.66->torch>=1.6.0->sentence-transformers) (68.0.0)\n",
      "Requirement already satisfied: wheel in /home/ml/anaconda3/envs/mobot/lib/python3.10/site-packages (from nvidia-cublas-cu11==11.10.3.66->torch>=1.6.0->sentence-transformers) (0.38.4)\n",
      "Requirement already satisfied: cmake in /home/ml/anaconda3/envs/mobot/lib/python3.10/site-packages (from triton==2.0.0->torch>=1.6.0->sentence-transformers) (3.27.5)\n",
      "Requirement already satisfied: lit in /home/ml/anaconda3/envs/mobot/lib/python3.10/site-packages (from triton==2.0.0->torch>=1.6.0->sentence-transformers) (16.0.6)\n",
      "Requirement already satisfied: regex!=2019.12.17 in /home/ml/anaconda3/envs/mobot/lib/python3.10/site-packages (from transformers<5.0.0,>=4.6.0->sentence-transformers) (2023.8.8)\n",
      "Requirement already satisfied: tokenizers!=0.11.3,<0.14,>=0.11.1 in /home/ml/anaconda3/envs/mobot/lib/python3.10/site-packages (from transformers<5.0.0,>=4.6.0->sentence-transformers) (0.13.3)\n",
      "Requirement already satisfied: safetensors>=0.3.1 in /home/ml/anaconda3/envs/mobot/lib/python3.10/site-packages (from transformers<5.0.0,>=4.6.0->sentence-transformers) (0.3.3)\n",
      "Requirement already satisfied: click in /home/ml/anaconda3/envs/mobot/lib/python3.10/site-packages (from nltk->sentence-transformers) (8.1.7)\n",
      "Requirement already satisfied: joblib in /home/ml/anaconda3/envs/mobot/lib/python3.10/site-packages (from nltk->sentence-transformers) (1.3.2)\n",
      "Requirement already satisfied: threadpoolctl>=2.0.0 in /home/ml/anaconda3/envs/mobot/lib/python3.10/site-packages (from scikit-learn->sentence-transformers) (3.2.0)\n",
      "Requirement already satisfied: pillow!=8.3.*,>=5.3.0 in /home/ml/anaconda3/envs/mobot/lib/python3.10/site-packages (from torchvision->sentence-transformers) (10.0.1)\n",
      "Requirement already satisfied: six>=1.5 in /home/ml/anaconda3/envs/mobot/lib/python3.10/site-packages (from python-dateutil>=2.8.2->pandas>=1.2.4->pymilvus) (1.16.0)\n",
      "Requirement already satisfied: MarkupSafe>=2.0 in /home/ml/anaconda3/envs/mobot/lib/python3.10/site-packages (from jinja2->torch>=1.6.0->sentence-transformers) (2.1.3)\n",
      "Requirement already satisfied: charset-normalizer<4,>=2 in /home/ml/anaconda3/envs/mobot/lib/python3.10/site-packages (from requests->huggingface-hub>=0.4.0->sentence-transformers) (3.2.0)\n",
      "Requirement already satisfied: idna<4,>=2.5 in /home/ml/anaconda3/envs/mobot/lib/python3.10/site-packages (from requests->huggingface-hub>=0.4.0->sentence-transformers) (3.4)\n",
      "Requirement already satisfied: urllib3<3,>=1.21.1 in /home/ml/anaconda3/envs/mobot/lib/python3.10/site-packages (from requests->huggingface-hub>=0.4.0->sentence-transformers) (2.0.5)\n",
      "Requirement already satisfied: certifi>=2017.4.17 in /home/ml/anaconda3/envs/mobot/lib/python3.10/site-packages (from requests->huggingface-hub>=0.4.0->sentence-transformers) (2023.7.22)\n",
      "Requirement already satisfied: mpmath>=0.19 in /home/ml/anaconda3/envs/mobot/lib/python3.10/site-packages (from sympy->torch>=1.6.0->sentence-transformers) (1.3.0)\n"
     ]
    }
   ],
   "source": [
    "!pip install sentence-transformers pymilvus"
   ]
  },
  {
   "cell_type": "markdown",
   "id": "1c68b7f0-65b9-46a4-927c-dda3ce9df25f",
   "metadata": {},
   "source": [
    "### 小墨 v0.3 介绍"
   ]
  },
  {
   "cell_type": "markdown",
   "id": "1171e3d4-02a6-4e5f-b8ee-54447aee78d8",
   "metadata": {},
   "source": [
    "![v0.3](./resource/images/v0.3.png)"
   ]
  },
  {
   "cell_type": "markdown",
   "id": "6b4c29e2-182a-4067-807d-e1e16f11fe72",
   "metadata": {},
   "source": [
    "### 核心就在于三驾马车\n",
    "1. 嵌入模型私有化\n",
    "2. 向量数据库私有化\n",
    "3. 大语言模型私有化"
   ]
  },
  {
   "cell_type": "code",
   "execution_count": null,
   "id": "6cd04f6f-64d2-4d6c-9520-54e2755d490e",
   "metadata": {},
   "outputs": [],
   "source": []
  },
  {
   "cell_type": "code",
   "execution_count": null,
   "id": "129b3c16-ac98-423c-93f6-57afbf090b8d",
   "metadata": {},
   "outputs": [],
   "source": []
  },
  {
   "cell_type": "markdown",
   "id": "26e419cf-998f-42b5-a520-fb4816050728",
   "metadata": {},
   "source": [
    "### 私有化，肯定要涉及到基础设施的部署"
   ]
  },
  {
   "cell_type": "markdown",
   "id": "eff06aa0-6ace-460e-b61b-21165a6029c7",
   "metadata": {
    "editable": true,
    "slideshow": {
     "slide_type": ""
    },
    "tags": []
   },
   "source": [
    "通常是五部曲\n",
    "1. 购买硬件/云服务器（Dell、IBM、Cloud..）\n",
    "3. 安装操作系统（Ubuntu、CentOS..）\n",
    "4. 打上显卡驱动（NVIDIA Drive）\n",
    "5. 选择算法框架及计算架构 （PyTorch-Meta, TensorFlow-Google, MindSpore-Huawei...）（CUDA）\n",
    "6. 运行对应的模型（Embedding、Language...）"
   ]
  },
  {
   "cell_type": "code",
   "execution_count": null,
   "id": "8107aaea-8139-4809-9d5c-0734112074f2",
   "metadata": {},
   "outputs": [],
   "source": []
  },
  {
   "cell_type": "code",
   "execution_count": null,
   "id": "89a13cc4-e666-42a6-ac20-256db36f9c22",
   "metadata": {},
   "outputs": [],
   "source": []
  },
  {
   "cell_type": "code",
   "execution_count": null,
   "id": "27b71d56-1102-4631-828c-0c81ecf874b5",
   "metadata": {},
   "outputs": [],
   "source": []
  },
  {
   "cell_type": "code",
   "execution_count": null,
   "id": "106b9c60-ffeb-4221-a78f-591e68d89760",
   "metadata": {},
   "outputs": [],
   "source": []
  },
  {
   "cell_type": "markdown",
   "id": "11489cbe-f922-498f-9a75-e713aa0b693c",
   "metadata": {},
   "source": [
    "### 魔法，还是得通过魔法打败"
   ]
  },
  {
   "cell_type": "code",
   "execution_count": null,
   "id": "dde2d6f5-7662-4357-9829-b2e11b57be30",
   "metadata": {},
   "outputs": [],
   "source": [
    "# 问题：无法下载到模型权重\n",
    "\n",
    "# 方式一： HuggingFace Mirror\n",
    "# https://aliendao.cn/\n",
    "\n",
    "# 方式二：国内平替，例如阿里云摩搭\n",
    "# https://www.modelscope.cn/"
   ]
  },
  {
   "cell_type": "code",
   "execution_count": null,
   "id": "c79a0233-e55a-4db4-83b0-2709bc6613db",
   "metadata": {},
   "outputs": [],
   "source": [
    "# 问题：没有本地算力资源\n",
    "\n",
    "# 方式一：用第三方租用，例如 AWS、腾讯云的 GPU 实例\n",
    "\n",
    "# 方式二：第三方托管（开源模型），例如阿里云灵积直接调用 API（某种意义上也可以做到可控）\n",
    "# https://dashscope.console.aliyun.com/"
   ]
  },
  {
   "cell_type": "code",
   "execution_count": null,
   "id": "39c052a5-609b-4f2f-aeba-adeb62ef2562",
   "metadata": {},
   "outputs": [],
   "source": []
  },
  {
   "cell_type": "code",
   "execution_count": null,
   "id": "aeeccd67-17b5-40c6-8ed6-c6dc8e97ea6c",
   "metadata": {},
   "outputs": [],
   "source": []
  },
  {
   "cell_type": "code",
   "execution_count": null,
   "id": "c56922f2-567e-46c3-9a58-c5313547c52c",
   "metadata": {},
   "outputs": [],
   "source": []
  },
  {
   "cell_type": "markdown",
   "id": "a8100f63-0787-4c5b-a1ad-19d999694477",
   "metadata": {},
   "source": [
    "### 第一架马车：Embedding Model"
   ]
  },
  {
   "cell_type": "code",
   "execution_count": null,
   "id": "99559224-2cd7-4f9e-b655-8153f5d35617",
   "metadata": {
    "editable": true,
    "slideshow": {
     "slide_type": ""
    },
    "tags": []
   },
   "outputs": [],
   "source": [
    "# 开源模型有很多，也可以自己来根据业务训练（例如专注于零售、医疗、供应链领域..）\n",
    "# 选择一个性能不错的，可以开箱即用的 (Moka Massive Mixed Embedding)\n",
    "# https://huggingface.co/moka-ai/m3e-large"
   ]
  },
  {
   "cell_type": "code",
   "execution_count": 2,
   "id": "2bd5dd5d-4ee0-438b-87e7-337557aad8c8",
   "metadata": {},
   "outputs": [
    {
     "name": "stderr",
     "output_type": "stream",
     "text": [
      "No sentence-transformers model found with name ./weights/embedding/m3e-large/. Creating a new one with MEAN pooling.\n"
     ]
    }
   ],
   "source": [
    "# 很简单的工作过程，输入n个句子，给回n个d维度的向量\n",
    "\n",
    "from sentence_transformers import SentenceTransformer\n",
    "embed_model = SentenceTransformer(model_name_or_path=\"./weights/embedding/m3e-large/\")\n",
    "\n",
    "sentence = ['How are you', \"你好\", \"Bonjour\"]\n",
    "\n",
    "vectors = embed_model.encode(sentence)"
   ]
  },
  {
   "cell_type": "code",
   "execution_count": 3,
   "id": "9f4a0921-090b-41a5-bf35-4daacc17c8b1",
   "metadata": {},
   "outputs": [
    {
     "name": "stdout",
     "output_type": "stream",
     "text": [
      "提供有 3 个向量，每个向量有 1024 维度\n"
     ]
    }
   ],
   "source": [
    "print(f'提供有 {len(vectors)} 个向量，每个向量有 {len(vectors[0])} 维度')"
   ]
  },
  {
   "cell_type": "code",
   "execution_count": 4,
   "id": "0735a25b-22b0-4675-890d-571e3c008c64",
   "metadata": {
    "editable": true,
    "slideshow": {
     "slide_type": ""
    },
    "tags": []
   },
   "outputs": [
    {
     "data": {
      "text/plain": [
       "(3, 1024)"
      ]
     },
     "execution_count": 4,
     "metadata": {},
     "output_type": "execute_result"
    }
   ],
   "source": [
    "vectors.shape"
   ]
  },
  {
   "cell_type": "code",
   "execution_count": 5,
   "id": "4f666e27-d9da-4d8a-8933-0043bd6fdd14",
   "metadata": {},
   "outputs": [
    {
     "data": {
      "text/plain": [
       "array([[ 5.9009928e-02, -9.8295927e-02,  5.1568592e-01, ...,\n",
       "         9.7195542e-01, -1.5779861e+00,  1.0853946e-03],\n",
       "       [-3.7582135e-01,  8.0404276e-01, -1.3980484e-01, ...,\n",
       "         6.3225293e-01, -9.5478934e-01,  3.5053524e-01],\n",
       "       [-6.9274282e-01,  7.6224732e-01, -4.0011904e-03, ...,\n",
       "         1.5449513e-01, -1.7018709e+00, -4.8794255e-01]], dtype=float32)"
      ]
     },
     "execution_count": 5,
     "metadata": {},
     "output_type": "execute_result"
    }
   ],
   "source": [
    "vectors"
   ]
  },
  {
   "cell_type": "code",
   "execution_count": 1,
   "id": "9e33de92-94b1-4db4-a174-e09e77f11560",
   "metadata": {},
   "outputs": [
    {
     "data": {
      "text/plain": [
       "(512,)"
      ]
     },
     "execution_count": 1,
     "metadata": {},
     "output_type": "execute_result"
    }
   ],
   "source": [
    "# 不同的模型，有不同的维度，维度越多，能表达的信息量越多\n",
    "# 同一个模型，也有不同的尺寸，例如 m3e 中的 small, base, large \n",
    "\n",
    "from sentence_transformers import SentenceTransformer\n",
    "m3e_small = SentenceTransformer(model_name_or_path=\"./weights/embedding/m3e-small/\")\n",
    "vectors = m3e_small.encode(\"Hello\")\n",
    "vectors.shape"
   ]
  },
  {
   "cell_type": "code",
   "execution_count": 2,
   "id": "8f72dc1d-fb69-405a-a7d2-bfbafa2ef2ae",
   "metadata": {},
   "outputs": [
    {
     "name": "stdout",
     "output_type": "stream",
     "text": [
      "huggingface/tokenizers: The current process just got forked, after parallelism has already been used. Disabling parallelism to avoid deadlocks...\n",
      "To disable this warning, you can either:\n",
      "\t- Avoid using `tokenizers` before the fork if possible\n",
      "\t- Explicitly set the environment variable TOKENIZERS_PARALLELISM=(true | false)\n",
      "Fri Oct  6 23:49:18 2023       \n",
      "+---------------------------------------------------------------------------------------+\n",
      "| NVIDIA-SMI 535.98                 Driver Version: 535.98       CUDA Version: 12.2     |\n",
      "|-----------------------------------------+----------------------+----------------------+\n",
      "| GPU  Name                 Persistence-M | Bus-Id        Disp.A | Volatile Uncorr. ECC |\n",
      "| Fan  Temp   Perf          Pwr:Usage/Cap |         Memory-Usage | GPU-Util  Compute M. |\n",
      "|                                         |                      |               MIG M. |\n",
      "|=========================================+======================+======================|\n",
      "|   0  NVIDIA GeForce RTX 4090 ...    Off | 00000000:01:00.0 Off |                  N/A |\n",
      "| N/A   48C    P0              16W / 150W |    667MiB / 16376MiB |      0%      Default |\n",
      "|                                         |                      |                  N/A |\n",
      "+-----------------------------------------+----------------------+----------------------+\n",
      "                                                                                         \n",
      "+---------------------------------------------------------------------------------------+\n",
      "| Processes:                                                                            |\n",
      "|  GPU   GI   CI        PID   Type   Process name                            GPU Memory |\n",
      "|        ID   ID                                                             Usage      |\n",
      "|=======================================================================================|\n",
      "|    0   N/A  N/A      2210      G   /usr/lib/xorg/Xorg                            4MiB |\n",
      "|    0   N/A  N/A      2512    C+G   ...libexec/gnome-remote-desktop-daemon      239MiB |\n",
      "|    0   N/A  N/A    701177      C   .../ml/anaconda3/envs/mobot/bin/python      406MiB |\n",
      "+---------------------------------------------------------------------------------------+\n"
     ]
    }
   ],
   "source": [
    "!nvidia-smi"
   ]
  },
  {
   "cell_type": "code",
   "execution_count": 1,
   "id": "040541fc-7dea-42de-ada0-05b9ec97c83a",
   "metadata": {},
   "outputs": [
    {
     "data": {
      "text/plain": [
       "(768,)"
      ]
     },
     "execution_count": 1,
     "metadata": {},
     "output_type": "execute_result"
    }
   ],
   "source": [
    "from sentence_transformers import SentenceTransformer\n",
    "m3e_base = SentenceTransformer(model_name_or_path=\"./weights/embedding/m3e-base/\")\n",
    "vectors = m3e_base.encode(\"Hello\")\n",
    "vectors.shape"
   ]
  },
  {
   "cell_type": "code",
   "execution_count": 2,
   "id": "9e23222a-2e3f-4a4d-9a56-1d63463d9548",
   "metadata": {},
   "outputs": [
    {
     "name": "stdout",
     "output_type": "stream",
     "text": [
      "huggingface/tokenizers: The current process just got forked, after parallelism has already been used. Disabling parallelism to avoid deadlocks...\n",
      "To disable this warning, you can either:\n",
      "\t- Avoid using `tokenizers` before the fork if possible\n",
      "\t- Explicitly set the environment variable TOKENIZERS_PARALLELISM=(true | false)\n",
      "Fri Oct  6 23:49:38 2023       \n",
      "+---------------------------------------------------------------------------------------+\n",
      "| NVIDIA-SMI 535.98                 Driver Version: 535.98       CUDA Version: 12.2     |\n",
      "|-----------------------------------------+----------------------+----------------------+\n",
      "| GPU  Name                 Persistence-M | Bus-Id        Disp.A | Volatile Uncorr. ECC |\n",
      "| Fan  Temp   Perf          Pwr:Usage/Cap |         Memory-Usage | GPU-Util  Compute M. |\n",
      "|                                         |                      |               MIG M. |\n",
      "|=========================================+======================+======================|\n",
      "|   0  NVIDIA GeForce RTX 4090 ...    Off | 00000000:01:00.0 Off |                  N/A |\n",
      "| N/A   48C    P0              20W / 150W |    989MiB / 16376MiB |      1%      Default |\n",
      "|                                         |                      |                  N/A |\n",
      "+-----------------------------------------+----------------------+----------------------+\n",
      "                                                                                         \n",
      "+---------------------------------------------------------------------------------------+\n",
      "| Processes:                                                                            |\n",
      "|  GPU   GI   CI        PID   Type   Process name                            GPU Memory |\n",
      "|        ID   ID                                                             Usage      |\n",
      "|=======================================================================================|\n",
      "|    0   N/A  N/A      2210      G   /usr/lib/xorg/Xorg                            4MiB |\n",
      "|    0   N/A  N/A      2512    C+G   ...libexec/gnome-remote-desktop-daemon      239MiB |\n",
      "|    0   N/A  N/A    701389      C   .../ml/anaconda3/envs/mobot/bin/python      728MiB |\n",
      "+---------------------------------------------------------------------------------------+\n"
     ]
    }
   ],
   "source": [
    "!nvidia-smi"
   ]
  },
  {
   "cell_type": "code",
   "execution_count": 1,
   "id": "00e3bcf0-bdba-4142-9df6-5a821d558b2d",
   "metadata": {},
   "outputs": [
    {
     "name": "stderr",
     "output_type": "stream",
     "text": [
      "No sentence-transformers model found with name ./weights/embedding/m3e-large/. Creating a new one with MEAN pooling.\n"
     ]
    },
    {
     "data": {
      "text/plain": [
       "(1024,)"
      ]
     },
     "execution_count": 1,
     "metadata": {},
     "output_type": "execute_result"
    }
   ],
   "source": [
    "from sentence_transformers import SentenceTransformer\n",
    "m3e_large = SentenceTransformer(model_name_or_path=\"./weights/embedding/m3e-large/\")\n",
    "vectors = m3e_large.encode(\"Hello\")\n",
    "vectors.shape"
   ]
  },
  {
   "cell_type": "code",
   "execution_count": 2,
   "id": "209dd00f-f823-4ba5-bb50-9859714d04ed",
   "metadata": {},
   "outputs": [
    {
     "name": "stdout",
     "output_type": "stream",
     "text": [
      "huggingface/tokenizers: The current process just got forked, after parallelism has already been used. Disabling parallelism to avoid deadlocks...\n",
      "To disable this warning, you can either:\n",
      "\t- Avoid using `tokenizers` before the fork if possible\n",
      "\t- Explicitly set the environment variable TOKENIZERS_PARALLELISM=(true | false)\n",
      "Fri Oct  6 23:50:00 2023       \n",
      "+---------------------------------------------------------------------------------------+\n",
      "| NVIDIA-SMI 535.98                 Driver Version: 535.98       CUDA Version: 12.2     |\n",
      "|-----------------------------------------+----------------------+----------------------+\n",
      "| GPU  Name                 Persistence-M | Bus-Id        Disp.A | Volatile Uncorr. ECC |\n",
      "| Fan  Temp   Perf          Pwr:Usage/Cap |         Memory-Usage | GPU-Util  Compute M. |\n",
      "|                                         |                      |               MIG M. |\n",
      "|=========================================+======================+======================|\n",
      "|   0  NVIDIA GeForce RTX 4090 ...    Off | 00000000:01:00.0 Off |                  N/A |\n",
      "| N/A   48C    P0              25W / 150W |   1821MiB / 16376MiB |      2%      Default |\n",
      "|                                         |                      |                  N/A |\n",
      "+-----------------------------------------+----------------------+----------------------+\n",
      "                                                                                         \n",
      "+---------------------------------------------------------------------------------------+\n",
      "| Processes:                                                                            |\n",
      "|  GPU   GI   CI        PID   Type   Process name                            GPU Memory |\n",
      "|        ID   ID                                                             Usage      |\n",
      "|=======================================================================================|\n",
      "|    0   N/A  N/A      2210      G   /usr/lib/xorg/Xorg                            4MiB |\n",
      "|    0   N/A  N/A      2512    C+G   ...libexec/gnome-remote-desktop-daemon      239MiB |\n",
      "|    0   N/A  N/A    701594      C   .../ml/anaconda3/envs/mobot/bin/python     1560MiB |\n",
      "+---------------------------------------------------------------------------------------+\n"
     ]
    }
   ],
   "source": [
    "!nvidia-smi"
   ]
  },
  {
   "cell_type": "markdown",
   "id": "b0b851c1-5172-4857-a6d2-eff60262a04b",
   "metadata": {},
   "source": [
    "#### 关键：如何评估模型的效果？"
   ]
  },
  {
   "cell_type": "code",
   "execution_count": null,
   "id": "a2fbb3c7-a6d9-4cba-9aec-1bafc63eaa2e",
   "metadata": {},
   "outputs": [],
   "source": [
    "# 在一个多维空间里面，距离可以来评估相似度\n",
    "# 那么目标函数可以定义为，语义越相似的句子距离越近，越不相似的句子距离越远"
   ]
  },
  {
   "cell_type": "code",
   "execution_count": 1,
   "id": "989f2956-830b-4cc8-8007-9061b31cef50",
   "metadata": {},
   "outputs": [
    {
     "name": "stderr",
     "output_type": "stream",
     "text": [
      "No sentence-transformers model found with name ./weights/embedding/m3e-large/. Creating a new one with MEAN pooling.\n"
     ]
    }
   ],
   "source": [
    "import numpy as np\n",
    "from sentence_transformers import SentenceTransformer\n",
    "embed_model = SentenceTransformer(model_name_or_path=\"./weights/embedding/m3e-large/\")"
   ]
  },
  {
   "cell_type": "code",
   "execution_count": 2,
   "id": "d75c3c77-933b-4000-8241-7bd19f18e8e5",
   "metadata": {},
   "outputs": [
    {
     "data": {
      "text/plain": [
       "array([ 0.      , 17.78149 , 30.888874], dtype=float32)"
      ]
     },
     "execution_count": 2,
     "metadata": {},
     "output_type": "execute_result"
    }
   ],
   "source": [
    "# 语义都是打招呼，但是不同语言表达\n",
    "\n",
    "# 原始文本\n",
    "sentences = ['你好', \"Hello\", \"Benjour\"]\n",
    "\n",
    "# 向量化\n",
    "vectors = embed_model.encode(sentences)\n",
    "\n",
    "# 相似度计算\n",
    "l2_distances = np.linalg.norm((vectors[0] - vectors), axis=1)\n",
    "l2_distances"
   ]
  },
  {
   "cell_type": "code",
   "execution_count": 3,
   "id": "f53a1c04-973a-42fb-b169-b2a62d06d6c1",
   "metadata": {},
   "outputs": [
    {
     "data": {
      "text/plain": [
       "array([ 0.      , 31.430096, 32.619556, 33.663322], dtype=float32)"
      ]
     },
     "execution_count": 3,
     "metadata": {},
     "output_type": "execute_result"
    }
   ],
   "source": [
    "# 语义不一样时\n",
    "\n",
    "# 原始文本\n",
    "sentences = [\"瑶瑶是墨问西东颜值最高的女孩子\", \"你好\", \"Hello\", \"Benjour\"]\n",
    "\n",
    "# 向量化\n",
    "vectors = embed_model.encode(sentences)\n",
    "\n",
    "# 相似度计算\n",
    "l2_distances = np.linalg.norm((vectors[0] - vectors), axis=1)\n",
    "l2_distances"
   ]
  },
  {
   "cell_type": "code",
   "execution_count": 4,
   "id": "49f38014-b52a-4932-a875-03cbcc066f43",
   "metadata": {},
   "outputs": [
    {
     "data": {
      "text/plain": [
       "array([ 0.      , 22.221102, 19.63204 ], dtype=float32)"
      ]
     },
     "execution_count": 4,
     "metadata": {},
     "output_type": "execute_result"
    }
   ],
   "source": [
    "# 均是中文时\n",
    "\n",
    "# 原始文本\n",
    "sentences = [\"早上好\", \"午安\", \"晚安\"]\n",
    "\n",
    "# 向量化\n",
    "vectors = embed_model.encode(sentences)\n",
    "\n",
    "# 相似度计算\n",
    "l2_distances = np.linalg.norm((vectors[0] - vectors), axis=1)\n",
    "l2_distances"
   ]
  },
  {
   "cell_type": "code",
   "execution_count": 5,
   "id": "d34841eb-922c-45c9-80b0-fcb4e8ec9a4c",
   "metadata": {},
   "outputs": [
    {
     "data": {
      "text/plain": [
       "array([ 0.      , 22.924166, 30.93319 , 31.255424], dtype=float32)"
      ]
     },
     "execution_count": 5,
     "metadata": {},
     "output_type": "execute_result"
    }
   ],
   "source": [
    "# 真实场景\n",
    "\n",
    "# 原始文本\n",
    "sentences = [\"小盖是谁\", \"小盖是墨问西东最帅的男人。\", \"瑶瑶是墨问西东的颜值担当，遥遥领先。\",\n",
    "             \"这个季节就是皮肤的水分流失相当快，要特别注重补水哦！我们新出了一款产品，使用后皮肤水汪汪的，滋润而不油腻。是我们卖的最好的明星产品之一。\"]\n",
    "\n",
    "# 向量化\n",
    "vectors = embed_model.encode(sentences)\n",
    "\n",
    "# 相似度计算\n",
    "l2_distances = np.linalg.norm((vectors[0] - vectors), axis=1)\n",
    "l2_distances"
   ]
  },
  {
   "cell_type": "markdown",
   "id": "ad5ffda8-522f-4d7a-88e7-88744168f157",
   "metadata": {},
   "source": [
    "#### 技巧"
   ]
  },
  {
   "cell_type": "code",
   "execution_count": null,
   "id": "a5877635-2660-4a96-a4b0-218f97412d81",
   "metadata": {},
   "outputs": [],
   "source": [
    "# 工程挑战，召回大量的知识，但是需要做抑制\n",
    "# 通过比对试验选择一个合适的阈值，\n",
    "# m3e large 这样看起来应该是 <20 (经验值)"
   ]
  },
  {
   "cell_type": "code",
   "execution_count": null,
   "id": "2705854b-4c9e-4056-bfd1-442ec791ce19",
   "metadata": {},
   "outputs": [],
   "source": []
  },
  {
   "cell_type": "markdown",
   "id": "163cf58c-db4f-4107-babd-e4190425736c",
   "metadata": {},
   "source": [
    "#### 可视化向量结果"
   ]
  },
  {
   "cell_type": "code",
   "execution_count": 6,
   "id": "d16d8642-3a4e-4539-82bc-eb0c42368f22",
   "metadata": {},
   "outputs": [],
   "source": [
    "# 问题：向量都是一堆数据，我也不知道是什么含义\n",
    "#      而且我最多只能理解一维, 二维, 三维世界，更多维度我也不知道怎么想象出来"
   ]
  },
  {
   "cell_type": "code",
   "execution_count": 7,
   "id": "3ceb3ccb-a55a-4546-a5fc-a917ec98e0ce",
   "metadata": {},
   "outputs": [],
   "source": [
    "# 原始文本\n",
    "sentences = [ \"你好\", \"早上好\", \"中午好\", \"晚上好\",\n",
    "             \"小盖是谁\", \"小盖是墨问西东最帅的男人。\", \n",
    "             \"瑶瑶是墨问西东的颜值担当，遥遥领先。\",\n",
    "             \"这个季节就是皮肤的水分流失相当快，要特别注重补水哦！我们新出了一款产品，使用后皮肤水汪汪的，滋润而不油腻。是我们卖的最好的明星产品之一。\"]\n",
    "\n",
    "# 文本标签 \n",
    "labels = [0, 0, 0, 0, 1, 1, 2, 3] \n",
    "\n",
    "# 向量化\n",
    "vectors = embed_model.encode(sentences)"
   ]
  },
  {
   "cell_type": "code",
   "execution_count": 8,
   "id": "652e1275-1fb0-4fc5-9ed6-d4f95362e0bd",
   "metadata": {},
   "outputs": [
    {
     "data": {
      "text/plain": [
       "(8, 2)"
      ]
     },
     "execution_count": 8,
     "metadata": {},
     "output_type": "execute_result"
    }
   ],
   "source": [
    "# 既然只能理解二维，那没有问题，我们把向量降维，不就可以了\n",
    "from sklearn.manifold import TSNE\n",
    "\n",
    "# 创建 t-SNE 模型来处理数据\n",
    "tsne = TSNE(n_components=2, perplexity=2, random_state=42, init='random', learning_rate=200)\n",
    "vis_dims = tsne.fit_transform(vectors)\n",
    "vis_dims.shape"
   ]
  },
  {
   "cell_type": "code",
   "execution_count": 10,
   "id": "a523bf28-d194-4d08-9844-4a533075d0d5",
   "metadata": {},
   "outputs": [
    {
     "data": {
      "image/png": "[encoded data removed]",
      "text/plain": [
       "<Figure size 640x480 with 1 Axes>"
      ]
     },
     "metadata": {},
     "output_type": "display_data"
    }
   ],
   "source": [
    "# 可视化下二维情况下的向量空间\n",
    "import matplotlib.pyplot as plt\n",
    "\n",
    "x = [point[0] for point in vis_dims]\n",
    "y = [point[1] for point in vis_dims]\n",
    "\n",
    "plt.scatter(x, y)\n",
    "plt.xlabel('X')\n",
    "plt.ylabel('Y')\n",
    "plt.show()"
   ]
  },
  {
   "cell_type": "code",
   "execution_count": 11,
   "id": "4919420a-97da-42a3-aaf4-729ab92a41d2",
   "metadata": {},
   "outputs": [
    {
     "data": {
      "image/png": "[encoded data removed]",
      "text/plain": [
       "<Figure size 640x480 with 1 Axes>"
      ]
     },
     "metadata": {},
     "output_type": "display_data"
    }
   ],
   "source": [
    "# 但是不知道上面的那一个点是什么意思\n",
    "# 我们有标签值来代表他是什么类别，所以我们可以根据不同的类别来显示不同的颜色\n",
    "# 只要颜色一样的距离是相近的，那也可以表达出语义是相似的\n",
    "\n",
    "color_map = ['r', 'g', 'b', 'y']\n",
    "colors = [color_map[lab] for lab in labels]\n",
    "\n",
    "x = [point[0] for point in vis_dims]\n",
    "y = [point[1] for point in vis_dims]\n",
    "\n",
    "plt.scatter(x, y, color=colors)\n",
    "plt.xlabel('X')\n",
    "plt.ylabel('Y')\n",
    "plt.show()"
   ]
  },
  {
   "cell_type": "code",
   "execution_count": 13,
   "id": "ae151073-3579-44e6-8342-d0ca7f835f0e",
   "metadata": {},
   "outputs": [
    {
     "data": {
      "text/plain": [
       "(8, 3)"
      ]
     },
     "execution_count": 13,
     "metadata": {},
     "output_type": "execute_result"
    }
   ],
   "source": [
    "# 既然可以二维，那就继续试试三维\n",
    "from mpl_toolkits.mplot3d import Axes3D\n",
    "from sklearn.decomposition import PCA\n",
    "\n",
    "pca = PCA(n_components=3)\n",
    "data_transformed = pca.fit_transform(vectors)\n",
    "data_transformed.shape"
   ]
  },
  {
   "cell_type": "code",
   "execution_count": 15,
   "id": "4c9a3f2c-ea9d-4b87-b9db-bf77c1fed08a",
   "metadata": {},
   "outputs": [
    {
     "data": {
      "image/png": "[encoded data removed]",
      "text/plain": [
       "<Figure size 640x480 with 1 Axes>"
      ]
     },
     "metadata": {},
     "output_type": "display_data"
    }
   ],
   "source": [
    "# 可视化下三维情况下的向量空间\n",
    "\n",
    "fig = plt.figure()\n",
    "ax = fig.add_subplot(111, projection='3d')\n",
    "\n",
    "colors = ['r', 'g', 'b', 'y']\n",
    "for i in range(len(data_transformed)):\n",
    "    ax.scatter(data_transformed[i, 0], data_transformed[i, 1],\n",
    "    data_transformed[i, 2], c=colors[labels[i]])\n",
    "\n",
    "ax.set_xlabel('X')\n",
    "ax.set_ylabel('Y')\n",
    "ax.set_zlabel('Z')\n",
    "plt.show()"
   ]
  },
  {
   "cell_type": "code",
   "execution_count": null,
   "id": "5adf5105-34d7-49d5-9c88-eca64e6a5e88",
   "metadata": {},
   "outputs": [],
   "source": []
  },
  {
   "cell_type": "code",
   "execution_count": null,
   "id": "27c3304a-0ed7-43a6-be8c-11a32d08f913",
   "metadata": {},
   "outputs": [],
   "source": []
  },
  {
   "cell_type": "code",
   "execution_count": null,
   "id": "07531220-97c4-442a-a9a1-8e53640a623f",
   "metadata": {},
   "outputs": [],
   "source": []
  },
  {
   "cell_type": "code",
   "execution_count": null,
   "id": "9a172468-945d-4a70-8a68-b67fe0afb049",
   "metadata": {},
   "outputs": [],
   "source": []
  },
  {
   "cell_type": "markdown",
   "id": "00a0d0e4-5a9e-4324-903b-f72b94f8c7d2",
   "metadata": {
    "editable": true,
    "slideshow": {
     "slide_type": ""
    },
    "tags": []
   },
   "source": [
    "### 第二架马车：Vector Database"
   ]
  },
  {
   "cell_type": "code",
   "execution_count": 16,
   "id": "ce973dd6-1d6f-46a6-a3ca-3d5ed8b52278",
   "metadata": {},
   "outputs": [],
   "source": [
    "# 用传统的数据库来做存储功能也可以，但是基于向量查询就需要在程序内存中处理\n",
    "# 支持私有化部署，对于扩展性、可用性、性能都有高要求 （Milvus）\n",
    "# https://milvus.io/docs"
   ]
  },
  {
   "cell_type": "code",
   "execution_count": 17,
   "id": "bf897fd7-ac3d-44a9-9ea3-969dfdf7916e",
   "metadata": {},
   "outputs": [],
   "source": [
    "# 哟哟切克闹，增删查改来一套\n",
    "\n",
    "from pymilvus import connections, utility, Collection, db, CollectionSchema, FieldSchema, DataType\n",
    "\n",
    "connections = connections.connect(host=\"127.0.0.1\", port=19530, user=\"root\", password=\"\")"
   ]
  },
  {
   "cell_type": "markdown",
   "id": "ea4c24c0-6f4c-4efc-9916-a74f56d046cc",
   "metadata": {},
   "source": [
    "#### Database"
   ]
  },
  {
   "cell_type": "code",
   "execution_count": 18,
   "id": "c47089ee-d038-4202-9868-b7c87429ad2a",
   "metadata": {},
   "outputs": [],
   "source": [
    "# 默认系统会自动创建一个名为 default 的数据库\n",
    "database_name = \"mowenxidong\""
   ]
  },
  {
   "cell_type": "code",
   "execution_count": 19,
   "id": "1296a7b6-7745-44f6-8829-f4042a40e20d",
   "metadata": {},
   "outputs": [],
   "source": [
    "# 创建一个数据库\n",
    "db.create_database(database_name)"
   ]
  },
  {
   "cell_type": "code",
   "execution_count": 20,
   "id": "ff47745b-0d8f-49d7-b0de-a6593e28ea56",
   "metadata": {},
   "outputs": [
    {
     "data": {
      "text/plain": [
       "['default', 'mowenxidong']"
      ]
     },
     "execution_count": 20,
     "metadata": {},
     "output_type": "execute_result"
    }
   ],
   "source": [
    "# 查看实例下有多少个数据库\n",
    "db.list_database()"
   ]
  },
  {
   "cell_type": "code",
   "execution_count": 21,
   "id": "39df1a63-2eee-4b3b-857f-15e56f655401",
   "metadata": {},
   "outputs": [],
   "source": [
    "# 删库跑路\n",
    "db.drop_database(database_name)"
   ]
  },
  {
   "cell_type": "code",
   "execution_count": null,
   "id": "e9e60a80-fdef-4a39-a3dd-683bb2fbffb4",
   "metadata": {},
   "outputs": [],
   "source": []
  },
  {
   "cell_type": "markdown",
   "id": "d03f6371-0192-4673-a7cc-fe7658014dcc",
   "metadata": {},
   "source": [
    "#### Collection"
   ]
  },
  {
   "cell_type": "code",
   "execution_count": 22,
   "id": "54660833-35d9-41b8-b76d-59a0ce2ec237",
   "metadata": {},
   "outputs": [],
   "source": [
    "# Collection 类似传统数据库中的 Table 概念\n",
    "database_name = \"default\"\n",
    "collection_name = \"mobot\""
   ]
  },
  {
   "cell_type": "code",
   "execution_count": 25,
   "id": "cc008fb2-27a8-4807-b8bc-6b4f08994c9c",
   "metadata": {},
   "outputs": [],
   "source": [
    "# 创建集合\n",
    "\n",
    "# 1. 声明 Field 类型及属性\n",
    "fields = [\n",
    "    FieldSchema(name=\"id\", dtype=DataType.INT64, is_primary=True),\n",
    "    FieldSchema(name=\"question\", dtype=DataType.VARCHAR, max_length=1000),\n",
    "    FieldSchema(name=\"answer\", dtype=DataType.VARCHAR, max_length=1000),\n",
    "    FieldSchema(name=\"embedding\", dtype=DataType.FLOAT_VECTOR, dim=1024)\n",
    "]\n",
    "\n",
    "# 2. 根据字段声明 Schema\n",
    "schema = CollectionSchema(\n",
    "    fields=fields,\n",
    "    description=\"\",\n",
    "    enable_dynamic_field=True\n",
    ")\n",
    "\n",
    "# 3. 根据 Schema 声明 Collection\n",
    "collection = Collection(\n",
    "    name=collection_name,\n",
    "    schema=schema,\n",
    "    using=database_name,\n",
    ")\n",
    "\n",
    "# 4. 创建 Field 的索引\n",
    "index_params = {\n",
    "    'index_type': \"IVF_FLAT\",\n",
    "    'metric_type': \"L2\",\n",
    "    'params': {'nlist': 1}\n",
    "}\n",
    "collection.create_index(field_name=\"embedding\", index_params=index_params)\n",
    "\n",
    "# 5. 挂载 Collection，变成可用状态\n",
    "collection.load()"
   ]
  },
  {
   "cell_type": "code",
   "execution_count": 26,
   "id": "0910244d-1ffb-4f8e-9be3-301487266ee8",
   "metadata": {},
   "outputs": [
    {
     "data": {
      "text/plain": [
       "<Collection>:\n",
       "-------------\n",
       "<name>: mobot\n",
       "<description>: \n",
       "<schema>: {'auto_id': False, 'description': '', 'fields': [{'name': 'id', 'description': '', 'type': <DataType.INT64: 5>, 'is_primary': True, 'auto_id': False}, {'name': 'question', 'description': '', 'type': <DataType.VARCHAR: 21>, 'params': {'max_length': 1000}}, {'name': 'answer', 'description': '', 'type': <DataType.VARCHAR: 21>, 'params': {'max_length': 1000}}, {'name': 'embedding', 'description': '', 'type': <DataType.FLOAT_VECTOR: 101>, 'params': {'dim': 1024}}], 'enable_dynamic_field': True}"
      ]
     },
     "execution_count": 26,
     "metadata": {},
     "output_type": "execute_result"
    }
   ],
   "source": [
    "# 查看 Collection 详情\n",
    "Collection(collection_name)"
   ]
  },
  {
   "cell_type": "code",
   "execution_count": 24,
   "id": "55002e9c-34f5-4f0e-802f-e4a930ee8a46",
   "metadata": {},
   "outputs": [],
   "source": [
    "# 删库大法\n",
    "utility.drop_collection(collection_name)"
   ]
  },
  {
   "cell_type": "code",
   "execution_count": 27,
   "id": "f3f96346-b9ab-43d3-b2ea-7361b1a2c9fc",
   "metadata": {},
   "outputs": [
    {
     "data": {
      "text/plain": [
       "True"
      ]
     },
     "execution_count": 27,
     "metadata": {},
     "output_type": "execute_result"
    }
   ],
   "source": [
    "# 判断 Collection 是否存在\n",
    "utility.has_collection(collection_name)"
   ]
  },
  {
   "cell_type": "code",
   "execution_count": null,
   "id": "ddac5b89-47d3-4c04-8b16-f594a8883186",
   "metadata": {},
   "outputs": [],
   "source": []
  },
  {
   "cell_type": "markdown",
   "id": "d45bd3d9-8f01-40b6-b0fe-7acaf17d8ee3",
   "metadata": {},
   "source": [
    "#### Document"
   ]
  },
  {
   "cell_type": "code",
   "execution_count": 28,
   "id": "1182cfbd-780d-4bc6-823c-53d15bd1342b",
   "metadata": {},
   "outputs": [],
   "source": [
    "# 新增数据\n",
    "knowledge_base = [\n",
    "    {\"question\": \"小盖是谁\", \"answer\": \"小盖是墨问西东最帅的男人。\"},\n",
    "    {\"question\": \"瑶瑶是谁\", \"answer\": \"瑶瑶是墨问西东的颜值担当，遥遥领先。\"},\n",
    "    {\"question\": \"皮肤很干\", \"answer\": \"这个季节就是皮肤的水分流失相当快，要特别注重补水哦！我们新出了一款产品，使用后皮肤水汪汪的，滋润而不油腻。是我们卖的最好的明星产品之一。\"}\n",
    "\n",
    "]\n",
    "\n",
    "ids, questions, answers, vectors = [], [], [], []\n",
    "\n",
    "for i in range(len(knowledge_base)):\n",
    "    ids.append(i+1)\n",
    "    questions.append(knowledge_base[i]['question'])\n",
    "    answers.append(knowledge_base[i]['answer'])\n",
    "    vectors.append(embed_model.encode(f'{knowledge_base[i][\"question\"]}\\n\\n{knowledge_base[i][\"answer\"]}'))\n",
    "\n",
    "\n",
    "entities = [ids, questions, answers, vectors]\n",
    "\n",
    "collection.insert(entities)\n",
    "collection.flush()"
   ]
  },
  {
   "cell_type": "code",
   "execution_count": 29,
   "id": "7b7c96ed-9de2-43aa-99f3-19147553fd9c",
   "metadata": {},
   "outputs": [],
   "source": [
    "# 基于向量的相似度搜索\n",
    "\n",
    "data = embed_model.encode([\"爆嗮之后掉皮\"])\n",
    "top_k = 3\n",
    "\n",
    "documents = collection.search(\n",
    "    data=data,\n",
    "    anns_field=\"embedding\",\n",
    "    param={\"metric_type\": \"L2\", \"params\": {\"nprobe\": 1}, \"offset\": 0},\n",
    "    limit=top_k,\n",
    "    output_fields=[\"*\"]\n",
    ")"
   ]
  },
  {
   "cell_type": "code",
   "execution_count": 30,
   "id": "7dc2c334-d5e8-4f73-9141-2e901ff9fcd1",
   "metadata": {},
   "outputs": [
    {
     "name": "stdout",
     "output_type": "stream",
     "text": [
      "3\n",
      "856.0146484375\n",
      "皮肤很干\n",
      "这个季节就是皮肤的水分流失相当快，要特别注重补水哦！我们新出了一款产品，使用后皮肤水汪汪的，滋润而不油腻。是我们卖的最好的明星产品之一。\n",
      "----------------\n",
      "1\n",
      "1062.521484375\n",
      "小盖是谁\n",
      "小盖是墨问西东最帅的男人。\n",
      "----------------\n",
      "2\n",
      "1079.0732421875\n",
      "瑶瑶是谁\n",
      "瑶瑶是墨问西东的颜值担当，遥遥领先。\n",
      "----------------\n"
     ]
    }
   ],
   "source": [
    "for i in range(len(documents[0])):\n",
    "    print(documents[0][i].id)\n",
    "    print(documents[0][i].distance)\n",
    "    print(documents[0][i].entity.get('question'))\n",
    "    print(documents[0][i].entity.get('answer'))\n",
    "    print('----------------')"
   ]
  },
  {
   "cell_type": "code",
   "execution_count": 31,
   "id": "f61cbf8b-95c1-4302-ab54-8229a503527c",
   "metadata": {},
   "outputs": [],
   "source": [
    "# 基于标量的查询\n",
    "expr = 'id != 3'\n",
    "\n",
    "documents = collection.query(\n",
    "    expr=expr,\n",
    "    offset=0,\n",
    "    limit=top_k,\n",
    "    output_fields=[\"*\"]\n",
    ")"
   ]
  },
  {
   "cell_type": "code",
   "execution_count": 32,
   "id": "c3559f8d-94e3-4ad4-aad4-ac2fa6fc181b",
   "metadata": {},
   "outputs": [
    {
     "name": "stdout",
     "output_type": "stream",
     "text": [
      "1\n",
      "小盖是谁\n",
      "小盖是墨问西东最帅的男人。\n",
      "----------------\n",
      "2\n",
      "瑶瑶是谁\n",
      "瑶瑶是墨问西东的颜值担当，遥遥领先。\n",
      "----------------\n"
     ]
    }
   ],
   "source": [
    "for i in range(len(documents)):\n",
    "    print(documents[i]['id'])\n",
    "    print(documents[i]['question'])\n",
    "    print(documents[i]['answer'])\n",
    "    print('----------------')"
   ]
  },
  {
   "cell_type": "code",
   "execution_count": 33,
   "id": "ba9974c7-6b86-4ada-bd4d-39d7d2986823",
   "metadata": {},
   "outputs": [],
   "source": [
    "# 混合检索\n",
    "data = embed_model.encode([\"爆嗮之后掉皮\"])\n",
    "expr = 'id != 3'\n",
    "\n",
    "documents = collection.search(\n",
    "    data=data,\n",
    "    anns_field=\"embedding\",\n",
    "    param={\"metric_type\": \"L2\", \"params\": {\"nprobe\": 1}, \"offset\": 0},\n",
    "    limit=top_k,\n",
    "    output_fields=[\"*\"],\n",
    "    expr=expr\n",
    ")"
   ]
  },
  {
   "cell_type": "code",
   "execution_count": 34,
   "id": "4421ef4a-549b-45d1-ac75-5cab6bcd1c38",
   "metadata": {},
   "outputs": [
    {
     "name": "stdout",
     "output_type": "stream",
     "text": [
      "1\n",
      "1062.521484375\n",
      "小盖是谁\n",
      "小盖是墨问西东最帅的男人。\n",
      "----------------\n",
      "2\n",
      "1079.0732421875\n",
      "瑶瑶是谁\n",
      "瑶瑶是墨问西东的颜值担当，遥遥领先。\n",
      "----------------\n"
     ]
    }
   ],
   "source": [
    "for i in range(len(documents[0])):\n",
    "    print(documents[0][i].id)\n",
    "    print(documents[0][i].distance)\n",
    "    print(documents[0][i].entity.get('question'))\n",
    "    print(documents[0][i].entity.get('answer'))\n",
    "    print('----------------')"
   ]
  },
  {
   "cell_type": "code",
   "execution_count": 35,
   "id": "94cd2729-12e3-445f-b1f5-70a43a99494e",
   "metadata": {},
   "outputs": [
    {
     "name": "stdout",
     "output_type": "stream",
     "text": [
      "1\n"
     ]
    }
   ],
   "source": [
    "# 删除前先查下是否存在\n",
    "expr = 'id in [3]'\n",
    "\n",
    "documents = collection.query(\n",
    "    expr=expr,\n",
    "    offset=0,\n",
    "    limit=top_k,\n",
    "    output_fields=[\"*\"]\n",
    ")\n",
    "\n",
    "print(len(documents))"
   ]
  },
  {
   "cell_type": "code",
   "execution_count": 36,
   "id": "f6f2d276-e463-4db6-89f4-c12c0efccd53",
   "metadata": {},
   "outputs": [
    {
     "data": {
      "text/plain": [
       "(insert count: 0, delete count: 1, upsert count: 0, timestamp: 444769705428254721, success count: 0, err count: 0)"
      ]
     },
     "execution_count": 36,
     "metadata": {},
     "output_type": "execute_result"
    }
   ],
   "source": [
    "# 删除数据\n",
    "collection.delete(expr)"
   ]
  },
  {
   "cell_type": "code",
   "execution_count": 37,
   "id": "12a8f117-19be-4336-b488-cb1af96314d8",
   "metadata": {},
   "outputs": [
    {
     "name": "stdout",
     "output_type": "stream",
     "text": [
      "0\n"
     ]
    }
   ],
   "source": [
    "# 再查一下，看看是否还存在\n",
    "documents = collection.query(\n",
    "    expr=expr,\n",
    "    offset=0,\n",
    "    limit=top_k,\n",
    "    output_fields=[\"*\"]\n",
    ")\n",
    "\n",
    "print(len(documents))"
   ]
  },
  {
   "cell_type": "code",
   "execution_count": null,
   "id": "1084ba60-79ca-49d5-9705-8358bdccf7ae",
   "metadata": {},
   "outputs": [],
   "source": []
  },
  {
   "cell_type": "markdown",
   "id": "78c55c9b-310c-4a0c-8844-fc1354853a6d",
   "metadata": {},
   "source": [
    "#### 知识点：向量数据库除了做对话场景，还能发挥什么能力"
   ]
  },
  {
   "cell_type": "code",
   "execution_count": 6,
   "id": "11f4cc71-c289-4bec-8f2a-94fd43f7daa0",
   "metadata": {},
   "outputs": [],
   "source": [
    "# Embedding Use Case\n",
    "# https://platform.openai.com/docs/guides/embeddings/use-cases\n",
    "# 图片搜索、音频搜索、文本搜索、商品推荐..."
   ]
  },
  {
   "cell_type": "code",
   "execution_count": null,
   "id": "36bd0d4f-209c-43b2-abe5-9bc42d0e553b",
   "metadata": {},
   "outputs": [],
   "source": []
  },
  {
   "cell_type": "code",
   "execution_count": null,
   "id": "6b7a0b63-db59-4998-9cc8-46fdaf105ef8",
   "metadata": {},
   "outputs": [],
   "source": []
  },
  {
   "cell_type": "markdown",
   "id": "c982d2ab-66be-4e8b-a661-02f79c07ab4c",
   "metadata": {},
   "source": [
    "### 第三架马车：Large Language Model"
   ]
  },
  {
   "cell_type": "code",
   "execution_count": 40,
   "id": "bc2c2c6f-126f-4a38-90a9-fb2d3b544e3c",
   "metadata": {},
   "outputs": [],
   "source": [
    "# 在上节课，我们说到了大模型在对话系统中，其实最关键的就是他的推理能力\n",
    "\n",
    "# 核心是如何选择一个大语言模型？"
   ]
  },
  {
   "cell_type": "code",
   "execution_count": 41,
   "id": "2971bf28-0582-4893-a489-4d2a2eda2f28",
   "metadata": {},
   "outputs": [],
   "source": [
    "# Llama2 呼声很高，但是实际投产适用吗？\n",
    "# https://replicate.com/meta/llama-2-70b-chat\n",
    "# https://replicate.com/meta/llama-2-13b-chat\n",
    "# https://replicate.com/meta/llama-2-7b-chat\n",
    "\n",
    "# 我们来小试一下, 但发现好像中文场景下很糟糕"
   ]
  },
  {
   "cell_type": "code",
   "execution_count": 42,
   "id": "dd485654-d31a-40ae-94d4-ca0f30fe1f11",
   "metadata": {},
   "outputs": [
    {
     "data": {
      "application/vnd.jupyter.widget-view+json": {
       "model_id": "2dc243b7b21d4bc5a79a462e87babb7e",
       "version_major": 2,
       "version_minor": 0
      },
      "text/plain": [
       "Loading checkpoint shards:   0%|          | 0/2 [00:00<?, ?it/s]"
      ]
     },
     "metadata": {},
     "output_type": "display_data"
    },
    {
     "name": "stderr",
     "output_type": "stream",
     "text": [
      "/home/ml/anaconda3/envs/mobot/lib/python3.10/site-packages/transformers/generation/configuration_utils.py:362: UserWarning: `do_sample` is set to `False`. However, `temperature` is set to `0.9` -- this flag is only used in sample-based generation modes. You should set `do_sample=True` or unset `temperature`. This was detected when initializing the generation config instance, which means the corresponding file may hold incorrect parameterization and should be fixed.\n",
      "  warnings.warn(\n",
      "/home/ml/anaconda3/envs/mobot/lib/python3.10/site-packages/transformers/generation/configuration_utils.py:367: UserWarning: `do_sample` is set to `False`. However, `top_p` is set to `0.6` -- this flag is only used in sample-based generation modes. You should set `do_sample=True` or unset `top_p`. This was detected when initializing the generation config instance, which means the corresponding file may hold incorrect parameterization and should be fixed.\n",
      "  warnings.warn(\n"
     ]
    }
   ],
   "source": [
    "import torch\n",
    "from transformers import AutoTokenizer, AutoModelForCausalLM\n",
    "\n",
    "model_path = './weights/language/llama2-chinese-chat-7b/'\n",
    "\n",
    "model = AutoModelForCausalLM.from_pretrained(\n",
    "    pretrained_model_name_or_path=model_path, \n",
    "    device_map='auto', \n",
    "    torch_dtype=torch.float16\n",
    ")\n",
    "model = model.eval()\n",
    "\n",
    "tokenizer = AutoTokenizer.from_pretrained(\n",
    "    pretrained_model_name_or_path=model_path, \n",
    "    use_fast=False)\n",
    "tokenizer.pad_token = tokenizer.eos_token"
   ]
  },
  {
   "cell_type": "code",
   "execution_count": 43,
   "id": "70f8498c-bc54-48df-83a3-71a224b4bd3a",
   "metadata": {},
   "outputs": [
    {
     "name": "stdout",
     "output_type": "stream",
     "text": [
      "huggingface/tokenizers: The current process just got forked, after parallelism has already been used. Disabling parallelism to avoid deadlocks...\n",
      "To disable this warning, you can either:\n",
      "\t- Avoid using `tokenizers` before the fork if possible\n",
      "\t- Explicitly set the environment variable TOKENIZERS_PARALLELISM=(true | false)\n",
      "Fri Oct  6 23:58:19 2023       \n",
      "+---------------------------------------------------------------------------------------+\n",
      "| NVIDIA-SMI 535.98                 Driver Version: 535.98       CUDA Version: 12.2     |\n",
      "|-----------------------------------------+----------------------+----------------------+\n",
      "| GPU  Name                 Persistence-M | Bus-Id        Disp.A | Volatile Uncorr. ECC |\n",
      "| Fan  Temp   Perf          Pwr:Usage/Cap |         Memory-Usage | GPU-Util  Compute M. |\n",
      "|                                         |                      |               MIG M. |\n",
      "|=========================================+======================+======================|\n",
      "|   0  NVIDIA GeForce RTX 4090 ...    Off | 00000000:01:00.0 Off |                  N/A |\n",
      "| N/A   48C    P0              42W / 150W |  14099MiB / 16376MiB |      3%      Default |\n",
      "|                                         |                      |                  N/A |\n",
      "+-----------------------------------------+----------------------+----------------------+\n",
      "                                                                                         \n",
      "+---------------------------------------------------------------------------------------+\n",
      "| Processes:                                                                            |\n",
      "|  GPU   GI   CI        PID   Type   Process name                            GPU Memory |\n",
      "|        ID   ID                                                             Usage      |\n",
      "|=======================================================================================|\n",
      "|    0   N/A  N/A      2210      G   /usr/lib/xorg/Xorg                            4MiB |\n",
      "|    0   N/A  N/A      2512    C+G   ...libexec/gnome-remote-desktop-daemon      239MiB |\n",
      "|    0   N/A  N/A    701755      C   .../ml/anaconda3/envs/mobot/bin/python    13838MiB |\n",
      "+---------------------------------------------------------------------------------------+\n"
     ]
    }
   ],
   "source": [
    "# 来看看需要多少显存开销\n",
    "!nvidia-smi"
   ]
  },
  {
   "cell_type": "code",
   "execution_count": 44,
   "id": "6c3d52ae-43bd-4006-9c6f-b90f5167b7e9",
   "metadata": {},
   "outputs": [],
   "source": [
    "def Llama2Completion(prompt):\n",
    "    input_ids = tokenizer([prompt], return_tensors=\"pt\", add_special_tokens=False).input_ids.to('cuda')\n",
    "\n",
    "    generate_input = {\n",
    "        \"input_ids\": input_ids,\n",
    "        \"max_new_tokens\": 512,  # max is 4096\n",
    "        \"do_sample\": False,\n",
    "        \"top_p\": 1,\n",
    "        \"temperature\": 0.1,\n",
    "        \"repetition_penalty\": 1,\n",
    "        \"eos_token_id\": tokenizer.eos_token_id,\n",
    "        \"bos_token_id\": tokenizer.bos_token_id,\n",
    "        \"pad_token_id\": tokenizer.pad_token_id\n",
    "    }\n",
    "\n",
    "    generate_ids = model.generate(**generate_input)\n",
    "    return tokenizer.decode(generate_ids[0])"
   ]
  },
  {
   "cell_type": "code",
   "execution_count": 45,
   "id": "3c39c779-0f34-47d2-b6c8-c1d33e9ad863",
   "metadata": {},
   "outputs": [
    {
     "name": "stderr",
     "output_type": "stream",
     "text": [
      "/home/ml/anaconda3/envs/mobot/lib/python3.10/site-packages/transformers/generation/utils.py:1417: UserWarning: You have modified the pretrained model configuration to control generation. This is a deprecated strategy to control generation and will be removed soon, in a future version. Please use a generation configuration file (see https://huggingface.co/docs/transformers/main_classes/text_generation )\n",
      "  warnings.warn(\n",
      "/home/ml/anaconda3/envs/mobot/lib/python3.10/site-packages/transformers/generation/configuration_utils.py:362: UserWarning: `do_sample` is set to `False`. However, `temperature` is set to `0.1` -- this flag is only used in sample-based generation modes. You should set `do_sample=True` or unset `temperature`.\n",
      "  warnings.warn(\n"
     ]
    },
    {
     "name": "stdout",
     "output_type": "stream",
     "text": [
      "\n",
      "<s>Human: \n",
      "知识库：\n",
      "瑶瑶是谁? 瑶瑶是墨问西东的颜值担当，遥遥领先。\n",
      "小盖是谁? 小盖是墨问西东最帅的男人。\n",
      "池建强是谁？ 池老师是墨问西东的创始人兼CEO。\n",
      "\n",
      "请根据知识库推理出：小盖是什么\n",
      "</s>\n",
      "<s>Assistant:\n",
      "小盖是墨问西东最帅的男人。\n",
      "\n",
      "因此，小盖可能是一个男性，或者一个虚拟人物，被认为是墨问西东最帅的男人。\n",
      "</s>\n"
     ]
    }
   ],
   "source": [
    "# 试试最简单的问题\n",
    "\n",
    "prompt = \"\"\"\n",
    "<s>Human: \n",
    "知识库：\n",
    "瑶瑶是谁? 瑶瑶是墨问西东的颜值担当，遥遥领先。\n",
    "小盖是谁? 小盖是墨问西东最帅的男人。\n",
    "池建强是谁？ 池老师是墨问西东的创始人兼CEO。\n",
    "\n",
    "请根据知识库推理出：小盖是什么\n",
    "</s>\n",
    "<s>Assistant:\n",
    "\"\"\"\n",
    "\n",
    "print(Llama2Completion(prompt))"
   ]
  },
  {
   "cell_type": "code",
   "execution_count": 46,
   "id": "f009b835-9ea4-4e33-a20f-9b560cc7a892",
   "metadata": {},
   "outputs": [
    {
     "name": "stdout",
     "output_type": "stream",
     "text": [
      "\n",
      "<s>Human: \n",
      "知识库：\n",
      "瑶瑶是谁? 瑶瑶是墨问西东的颜值担当，遥遥领先。\n",
      "小盖是谁? 小盖是墨问西东最帅的男人。\n",
      "池建强是谁？ 池老师是墨问西东的创始人兼CEO。\n",
      "\n",
      "请根据知识库推理出：瑶瑶和小盖是什么关系\n",
      "</s>\n",
      "<s>Assistant:\n",
      "瑶瑶和小盖是墨问西东的员工。\n",
      "</s>\n"
     ]
    }
   ],
   "source": [
    "# 再试试有难度的\n",
    "prompt = \"\"\"\n",
    "<s>Human: \n",
    "知识库：\n",
    "瑶瑶是谁? 瑶瑶是墨问西东的颜值担当，遥遥领先。\n",
    "小盖是谁? 小盖是墨问西东最帅的男人。\n",
    "池建强是谁？ 池老师是墨问西东的创始人兼CEO。\n",
    "\n",
    "请根据知识库推理出：瑶瑶和小盖是什么关系\n",
    "</s>\n",
    "<s>Assistant:\n",
    "\"\"\"\n",
    "\n",
    "print(Llama2Completion(prompt))"
   ]
  },
  {
   "cell_type": "code",
   "execution_count": 47,
   "id": "1bcac3ab-6fa6-4176-aadf-997324106022",
   "metadata": {},
   "outputs": [
    {
     "name": "stdout",
     "output_type": "stream",
     "text": [
      "\n",
      "<s>Human: 小盖是谁？</s>\n",
      "<s>Assistant: 小盖是墨问西东最帅的男人。</s>\n",
      "<s>Human: 瑶瑶是谁? </s>\n",
      "<s>Assistant: 瑶瑶是墨问西东的颜值担当，遥遥领先。</s>\n",
      "<s>Human: 那他俩是啥关系？</s>\n",
      "<s>Assistant: \n",
      "小盖和瑶瑶是墨问西东的两位主演，他们在剧中扮演了男女主角的角色。小盖扮演的是男主角，是一个勇敢、善良、热情的人，而瑶瑶则扮演的是女主角，是一个坚韧、勇敢、善良的人。两人在剧中展现了着深深的情感关系，彼此相爱，但却因为各自的缺陷和困难而受到困扰。最终，他们通过努力和尊重，才能找到了真正的爱情和幸福。\n",
      "\n",
      "总之，小盖和瑶瑶是墨问西东的两位主演，他们在剧中展现了着深深的情感关系，彼此相爱，但却因为各自的缺陷和困难而受到困扰。最终，他们通过努力和尊重，才能找到了真正的爱情和幸福。\n",
      "</s>\n"
     ]
    }
   ],
   "source": [
    "# 对于记忆力的场景\n",
    "prompt = \"\"\"\n",
    "<s>Human: 小盖是谁？</s>\n",
    "<s>Assistant: 小盖是墨问西东最帅的男人。</s>\n",
    "<s>Human: 瑶瑶是谁? </s>\n",
    "<s>Assistant: 瑶瑶是墨问西东的颜值担当，遥遥领先。</s>\n",
    "<s>Human: 那他俩是啥关系？</s>\n",
    "<s>Assistant: \n",
    "\"\"\"\n",
    "\n",
    "print(Llama2Completion(prompt))"
   ]
  },
  {
   "cell_type": "code",
   "execution_count": 48,
   "id": "55460e80-20ab-4b83-a898-e84d067b63c5",
   "metadata": {},
   "outputs": [],
   "source": [
    "# 看起来对于 Llama2-Chinese-7B \n",
    "# 推理能力还是一个比较弱的能力\n",
    "\n",
    "# 那就试试更大参数量的模型（只有参数量超过一定的程度才会出现能力涌现）\n",
    "# 但我们显存有限，只有 16G，而且在推理时内存会不停上涨\n",
    "\n",
    "# 用量化的模型，就可以减少内存开销，例如 float16 -> int4\n",
    "# 4 位量化 LLaMA 模型的 GPU 要求：\n",
    "# LLaMA Model\tMinimum VRAM Requirement\tRecommended GPU Examples\n",
    "# LLaMA-7B\t6GB\t    RTX 3060, GTX 1660, 2060, AMD 5700 XT, RTX 3050\n",
    "# LLaMA-13B\t10GB\tAMD 6900 XT, RTX 2060 12GB, 3060 12GB, 3080, A2000\n",
    "# LLaMA-30B\t20GB\tRTX 3080 20GB, A4500, A5000, 3090, 4090, 6000, Tesla V100, Tesla P40\n",
    "# LLaMA-65B\t40GB\tA100 40GB, 2x3090, 2x4090, A40, RTX A6000, A8000"
   ]
  },
  {
   "cell_type": "code",
   "execution_count": 1,
   "id": "6954f0d9-bdbb-4a42-b28a-5061c1cc958a",
   "metadata": {},
   "outputs": [
    {
     "name": "stderr",
     "output_type": "stream",
     "text": [
      "Warning: please make sure that you are using the latest codes and checkpoints, especially if you used Qwen-7B before 09.25.2023.请使用最新模型和代码，尤其如果你在9月25日前已经开始使用Qwen-7B，千万注意不要使用错误代码和模型。\n",
      "Try importing flash-attention for faster inference...\n",
      "Warning: import flash_attn rotary fail, please install FlashAttention rotary to get higher efficiency https://github.com/Dao-AILab/flash-attention/tree/main/csrc/rotary\n",
      "Warning: import flash_attn rms_norm fail, please install FlashAttention layer_norm to get higher efficiency https://github.com/Dao-AILab/flash-attention/tree/main/csrc/layer_norm\n",
      "Warning: import flash_attn fail, please install FlashAttention to get higher efficiency https://github.com/Dao-AILab/flash-attention\n"
     ]
    },
    {
     "data": {
      "application/vnd.jupyter.widget-view+json": {
       "model_id": "c9968f0b955e4832883131aa6fd0e1bb",
       "version_major": 2,
       "version_minor": 0
      },
      "text/plain": [
       "Loading checkpoint shards:   0%|          | 0/5 [00:00<?, ?it/s]"
      ]
     },
     "metadata": {},
     "output_type": "display_data"
    }
   ],
   "source": [
    "import torch\n",
    "from transformers import AutoTokenizer, AutoModelForCausalLM\n",
    "\n",
    "model_path = './weights/language/qwen-14b-chat-int4/'\n",
    "\n",
    "model = AutoModelForCausalLM.from_pretrained(\n",
    "    pretrained_model_name_or_path=model_path, \n",
    "    device_map='auto', \n",
    "    trust_remote_code=True\n",
    ").eval()\n",
    "\n",
    "tokenizer = AutoTokenizer.from_pretrained(\n",
    "    pretrained_model_name_or_path=model_path, \n",
    "    trust_remote_code=True\n",
    ")"
   ]
  },
  {
   "cell_type": "code",
   "execution_count": 2,
   "id": "75aa64c8-e8fd-4cd6-bc85-e395ab2ff6d0",
   "metadata": {},
   "outputs": [
    {
     "name": "stdout",
     "output_type": "stream",
     "text": [
      "Sat Oct  7 00:00:00 2023       \n",
      "+---------------------------------------------------------------------------------------+\n",
      "| NVIDIA-SMI 535.98                 Driver Version: 535.98       CUDA Version: 12.2     |\n",
      "|-----------------------------------------+----------------------+----------------------+\n",
      "| GPU  Name                 Persistence-M | Bus-Id        Disp.A | Volatile Uncorr. ECC |\n",
      "| Fan  Temp   Perf          Pwr:Usage/Cap |         Memory-Usage | GPU-Util  Compute M. |\n",
      "|                                         |                      |               MIG M. |\n",
      "|=========================================+======================+======================|\n",
      "|   0  NVIDIA GeForce RTX 4090 ...    Off | 00000000:01:00.0 Off |                  N/A |\n",
      "| N/A   50C    P0              36W / 150W |  10095MiB / 16376MiB |      3%      Default |\n",
      "|                                         |                      |                  N/A |\n",
      "+-----------------------------------------+----------------------+----------------------+\n",
      "                                                                                         \n",
      "+---------------------------------------------------------------------------------------+\n",
      "| Processes:                                                                            |\n",
      "|  GPU   GI   CI        PID   Type   Process name                            GPU Memory |\n",
      "|        ID   ID                                                             Usage      |\n",
      "|=======================================================================================|\n",
      "|    0   N/A  N/A      2210      G   /usr/lib/xorg/Xorg                            4MiB |\n",
      "|    0   N/A  N/A      2512    C+G   ...libexec/gnome-remote-desktop-daemon      239MiB |\n",
      "|    0   N/A  N/A    703483      C   .../ml/anaconda3/envs/mobot/bin/python     9834MiB |\n",
      "+---------------------------------------------------------------------------------------+\n"
     ]
    }
   ],
   "source": [
    "# 来看看需要多少显存开销\n",
    "!nvidia-smi"
   ]
  },
  {
   "cell_type": "code",
   "execution_count": 3,
   "id": "7f055daf-8baa-4101-b627-fbccdbc5f024",
   "metadata": {},
   "outputs": [
    {
     "name": "stdout",
     "output_type": "stream",
     "text": [
      "小盖是墨问西东最帅的男人。\n"
     ]
    }
   ],
   "source": [
    "# 来试试 13B 参数量的模型，能力如何？\n",
    "\n",
    "# 试试最简单的问题\n",
    "\n",
    "prompt = \"\"\"\n",
    "知识库：\n",
    "瑶瑶是谁? 瑶瑶是墨问西东的颜值担当，遥遥领先。\n",
    "小盖是谁? 小盖是墨问西东最帅的男人。\n",
    "池建强是谁？ 池老师是墨问西东的创始人兼CEO。\n",
    "\n",
    "请根据知识库回答：小盖是什么\n",
    "\"\"\"\n",
    "\n",
    "response, history = model.chat(tokenizer, prompt, history=None)\n",
    "print(response)"
   ]
  },
  {
   "cell_type": "code",
   "execution_count": 4,
   "id": "00048eac-c9c7-42fe-87d8-38d811662e31",
   "metadata": {},
   "outputs": [
    {
     "name": "stdout",
     "output_type": "stream",
     "text": [
      "根据知识库，瑶瑶是墨问西东的颜值担当，遥遥领先；小盖是墨问西东最帅的男人。因此，瑶瑶和小盖都是墨问西东的人，但具体关系未知。\n"
     ]
    }
   ],
   "source": [
    "# 再试试有难度的\n",
    "prompt = \"\"\"\n",
    "知识库：\n",
    "瑶瑶是谁? 瑶瑶是墨问西东的颜值担当，遥遥领先。\n",
    "小盖是谁? 小盖是墨问西东最帅的男人。\n",
    "池建强是谁？ 池老师是墨问西东的创始人兼CEO。\n",
    "\n",
    "请根据知识库回答：瑶瑶和小盖是什么关系\n",
    "\"\"\"\n",
    "\n",
    "response, history = model.chat(tokenizer, prompt, history=None)\n",
    "print(response)"
   ]
  },
  {
   "cell_type": "code",
   "execution_count": 5,
   "id": "b61826d0-1389-4876-90bf-34b5ceba81b7",
   "metadata": {},
   "outputs": [
    {
     "name": "stdout",
     "output_type": "stream",
     "text": [
      "小盖和瑶瑶是同事关系，同在墨问西东团队中担任自然语言处理相关的研发工作。\n"
     ]
    }
   ],
   "source": [
    "# 对于记忆力的场景\n",
    "prompt = \"\"\"\n",
    "Human: 小盖是谁？\n",
    "Assistant: 小盖是墨问西东最帅的男人。\n",
    "Human: 瑶瑶是谁? \n",
    "Assistant: 瑶瑶是墨问西东的颜值担当，遥遥领先。\n",
    "Human: 那他俩是啥关系？\n",
    "Assistant:\n",
    "\"\"\"\n",
    "\n",
    "response, history = model.chat(tokenizer, prompt, history=None)\n",
    "print(response)"
   ]
  },
  {
   "cell_type": "markdown",
   "id": "78dfa983-30f5-4dd1-8344-d4842db625d5",
   "metadata": {},
   "source": [
    "#### 模型选择技巧"
   ]
  },
  {
   "cell_type": "code",
   "execution_count": null,
   "id": "396aa0b6-0381-47d3-b5ab-141c5ab19234",
   "metadata": {},
   "outputs": [],
   "source": [
    "# 7B参数量的模型 float16 需要14G显存！\n",
    "\n",
    "# 13B参数量的模型 int4 量化 显存只需要9G显存，开销更低！性能表现更好\n",
    "\n",
    "# 工程上选择更大参数量的模型去做量化！"
   ]
  },
  {
   "cell_type": "code",
   "execution_count": null,
   "id": "cbb58fb4-20f2-4380-ad5a-47b39189173e",
   "metadata": {},
   "outputs": [],
   "source": [
    "# LLMs Leader Board\n",
    "# https://opencompass.org.cn/leaderboard-llm"
   ]
  },
  {
   "cell_type": "code",
   "execution_count": null,
   "id": "2c72f6f0-b731-4000-9cb7-1d5011bc27cb",
   "metadata": {},
   "outputs": [],
   "source": []
  },
  {
   "cell_type": "code",
   "execution_count": null,
   "id": "ad36d4c2-1492-4fa5-bbf6-560a1675fad1",
   "metadata": {},
   "outputs": [],
   "source": []
  },
  {
   "cell_type": "markdown",
   "id": "730167ae-21ce-419e-8bfe-6e3cb7b1ceb7",
   "metadata": {},
   "source": [
    "### 总结和回顾"
   ]
  },
  {
   "cell_type": "code",
   "execution_count": null,
   "id": "26b1e2f1-a6a2-4234-9cea-7a22477c04f3",
   "metadata": {},
   "outputs": [],
   "source": []
  },
  {
   "cell_type": "code",
   "execution_count": null,
   "id": "fd697625-9f95-4a0f-bee4-b52825da3ba6",
   "metadata": {},
   "outputs": [],
   "source": []
  },
  {
   "cell_type": "code",
   "execution_count": null,
   "id": "f90b9a8a-9e44-444c-8a68-48fd2c6fc51c",
   "metadata": {},
   "outputs": [],
   "source": []
  },
  {
   "cell_type": "code",
   "execution_count": null,
   "id": "ea17a037-8969-46ad-b5ef-4ba57119cfcf",
   "metadata": {},
   "outputs": [],
   "source": []
  }
 ],
 "metadata": {
  "kernelspec": {
   "display_name": "Python 3 (ipykernel)",
   "language": "python",
   "name": "python3"
  },
  "language_info": {
   "codemirror_mode": {
    "name": "ipython",
    "version": 3
   },
   "file_extension": ".py",
   "mimetype": "text/x-python",
   "name": "python",
   "nbconvert_exporter": "python",
   "pygments_lexer": "ipython3",
   "version": "3.10.13"
  }
 },
 "nbformat": 4,
 "nbformat_minor": 5
}
