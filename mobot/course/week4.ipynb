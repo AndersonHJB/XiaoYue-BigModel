{
 "cells": [
  {
   "cell_type": "markdown",
   "id": "721adf01-f3a2-4ebe-b02e-1487dd3d69ed",
   "metadata": {},
   "source": [
    "# 本节大纲\n",
    "\n",
    "1. 版本介绍，5分钟\n",
    "2. 嵌入模型选型，25分钟\n",
    "3. 向量数据库选型，25分钟\n",
    "4. 大语言模型选型，25分钟\n",
    "5. 数据工程，25分钟\n",
    "6. 答疑和总结，15分钟"
   ]
  },
  {
   "cell_type": "code",
   "execution_count": 49,
   "id": "7bb02190-3707-439c-9630-163413924839",
   "metadata": {},
   "outputs": [
    {
     "name": "stdout",
     "output_type": "stream",
     "text": [
      "Requirement already satisfied: openai in /opt/conda/lib/python3.11/site-packages (0.28.1)\n",
      "Requirement already satisfied: scikit-learn in /opt/conda/lib/python3.11/site-packages (1.3.1)\n",
      "Requirement already satisfied: matplotlib in /opt/conda/lib/python3.11/site-packages (3.8.0)\n",
      "Collecting embaas\n",
      "  Obtaining dependency information for embaas from https://files.pythonhosted.org/packages/b9/c1/2a60b335adc29ba111fe099e77156b298b0a8d936352faa26164907c7ed3/embaas-0.0.7-py3-none-any.whl.metadata\n",
      "  Downloading embaas-0.0.7-py3-none-any.whl.metadata (2.1 kB)\n",
      "Requirement already satisfied: requests>=2.20 in /opt/conda/lib/python3.11/site-packages (from openai) (2.31.0)\n",
      "Requirement already satisfied: tqdm in /opt/conda/lib/python3.11/site-packages (from openai) (4.66.1)\n",
      "Requirement already satisfied: aiohttp in /opt/conda/lib/python3.11/site-packages (from openai) (3.8.6)\n",
      "Requirement already satisfied: numpy in /opt/conda/lib/python3.11/site-packages (from openai) (1.26.1)\n",
      "Requirement already satisfied: pandas>=1.2.3 in /opt/conda/lib/python3.11/site-packages (from openai) (2.1.1)\n",
      "Requirement already satisfied: pandas-stubs>=1.1.0.11 in /opt/conda/lib/python3.11/site-packages (from openai) (2.1.1.230928)\n",
      "Requirement already satisfied: openpyxl>=3.0.7 in /opt/conda/lib/python3.11/site-packages (from openai) (3.1.2)\n",
      "Requirement already satisfied: scipy>=1.5.0 in /opt/conda/lib/python3.11/site-packages (from scikit-learn) (1.11.3)\n",
      "Requirement already satisfied: joblib>=1.1.1 in /opt/conda/lib/python3.11/site-packages (from scikit-learn) (1.3.2)\n",
      "Requirement already satisfied: threadpoolctl>=2.0.0 in /opt/conda/lib/python3.11/site-packages (from scikit-learn) (3.2.0)\n",
      "Requirement already satisfied: contourpy>=1.0.1 in /opt/conda/lib/python3.11/site-packages (from matplotlib) (1.1.1)\n",
      "Requirement already satisfied: cycler>=0.10 in /opt/conda/lib/python3.11/site-packages (from matplotlib) (0.12.1)\n",
      "Requirement already satisfied: fonttools>=4.22.0 in /opt/conda/lib/python3.11/site-packages (from matplotlib) (4.43.1)\n",
      "Requirement already satisfied: kiwisolver>=1.0.1 in /opt/conda/lib/python3.11/site-packages (from matplotlib) (1.4.5)\n",
      "Requirement already satisfied: packaging>=20.0 in /opt/conda/lib/python3.11/site-packages (from matplotlib) (23.1)\n",
      "Requirement already satisfied: pillow>=6.2.0 in /opt/conda/lib/python3.11/site-packages (from matplotlib) (10.1.0)\n",
      "Requirement already satisfied: pyparsing>=2.3.1 in /opt/conda/lib/python3.11/site-packages (from matplotlib) (3.1.1)\n",
      "Requirement already satisfied: python-dateutil>=2.7 in /opt/conda/lib/python3.11/site-packages (from matplotlib) (2.8.2)\n",
      "Collecting httpx (from embaas)\n",
      "  Obtaining dependency information for httpx from https://files.pythonhosted.org/packages/33/0d/d9ce469af019741c8999711d36b270ff992ceb1a0293f73f9f34fdf131e9/httpx-0.25.0-py3-none-any.whl.metadata\n",
      "  Downloading httpx-0.25.0-py3-none-any.whl.metadata (7.6 kB)\n",
      "Collecting pydantic (from embaas)\n",
      "  Obtaining dependency information for pydantic from https://files.pythonhosted.org/packages/73/66/0a72c9fcde42e5650c8d8d5c5c1873b9a3893018020c77ca8eb62708b923/pydantic-2.4.2-py3-none-any.whl.metadata\n",
      "  Downloading pydantic-2.4.2-py3-none-any.whl.metadata (158 kB)\n",
      "\u001b[2K     \u001b[90m━━━━━━━━━━━━━━━━━━━━━━━━━━━━━━━━━━━━━━━\u001b[0m \u001b[32m158.6/158.6 kB\u001b[0m \u001b[31m6.2 MB/s\u001b[0m eta \u001b[36m0:00:00\u001b[0m\n",
      "\u001b[?25hRequirement already satisfied: et-xmlfile in /opt/conda/lib/python3.11/site-packages (from openpyxl>=3.0.7->openai) (1.1.0)\n",
      "Requirement already satisfied: pytz>=2020.1 in /opt/conda/lib/python3.11/site-packages (from pandas>=1.2.3->openai) (2023.3.post1)\n",
      "Requirement already satisfied: tzdata>=2022.1 in /opt/conda/lib/python3.11/site-packages (from pandas>=1.2.3->openai) (2023.3)\n",
      "Requirement already satisfied: types-pytz>=2022.1.1 in /opt/conda/lib/python3.11/site-packages (from pandas-stubs>=1.1.0.11->openai) (2023.3.1.1)\n",
      "Requirement already satisfied: six>=1.5 in /opt/conda/lib/python3.11/site-packages (from python-dateutil>=2.7->matplotlib) (1.16.0)\n",
      "Requirement already satisfied: charset-normalizer<4,>=2 in /opt/conda/lib/python3.11/site-packages (from requests>=2.20->openai) (3.2.0)\n",
      "Requirement already satisfied: idna<4,>=2.5 in /opt/conda/lib/python3.11/site-packages (from requests>=2.20->openai) (3.4)\n",
      "Requirement already satisfied: urllib3<3,>=1.21.1 in /opt/conda/lib/python3.11/site-packages (from requests>=2.20->openai) (2.0.4)\n",
      "Requirement already satisfied: certifi>=2017.4.17 in /opt/conda/lib/python3.11/site-packages (from requests>=2.20->openai) (2023.7.22)\n",
      "Requirement already satisfied: attrs>=17.3.0 in /opt/conda/lib/python3.11/site-packages (from aiohttp->openai) (23.1.0)\n",
      "Requirement already satisfied: multidict<7.0,>=4.5 in /opt/conda/lib/python3.11/site-packages (from aiohttp->openai) (6.0.4)\n",
      "Requirement already satisfied: async-timeout<5.0,>=4.0.0a3 in /opt/conda/lib/python3.11/site-packages (from aiohttp->openai) (4.0.3)\n",
      "Requirement already satisfied: yarl<2.0,>=1.0 in /opt/conda/lib/python3.11/site-packages (from aiohttp->openai) (1.9.2)\n",
      "Requirement already satisfied: frozenlist>=1.1.1 in /opt/conda/lib/python3.11/site-packages (from aiohttp->openai) (1.4.0)\n",
      "Requirement already satisfied: aiosignal>=1.1.2 in /opt/conda/lib/python3.11/site-packages (from aiohttp->openai) (1.3.1)\n",
      "Collecting httpcore<0.19.0,>=0.18.0 (from httpx->embaas)\n",
      "  Obtaining dependency information for httpcore<0.19.0,>=0.18.0 from https://files.pythonhosted.org/packages/ac/97/724afbb7925339f6214bf1fdb5714d1a462690466832bf8fb3fd497649f1/httpcore-0.18.0-py3-none-any.whl.metadata\n",
      "  Downloading httpcore-0.18.0-py3-none-any.whl.metadata (18 kB)\n",
      "Requirement already satisfied: sniffio in /opt/conda/lib/python3.11/site-packages (from httpx->embaas) (1.3.0)\n",
      "Collecting annotated-types>=0.4.0 (from pydantic->embaas)\n",
      "  Obtaining dependency information for annotated-types>=0.4.0 from https://files.pythonhosted.org/packages/28/78/d31230046e58c207284c6b2c4e8d96e6d3cb4e52354721b944d3e1ee4aa5/annotated_types-0.6.0-py3-none-any.whl.metadata\n",
      "  Downloading annotated_types-0.6.0-py3-none-any.whl.metadata (12 kB)\n",
      "Collecting pydantic-core==2.10.1 (from pydantic->embaas)\n",
      "  Obtaining dependency information for pydantic-core==2.10.1 from https://files.pythonhosted.org/packages/39/09/120c06a52ed4bb1022d060bec0a16e5deb4ce79a1c4c11ef9519bc32b59f/pydantic_core-2.10.1-cp311-cp311-manylinux_2_17_x86_64.manylinux2014_x86_64.whl.metadata\n",
      "  Downloading pydantic_core-2.10.1-cp311-cp311-manylinux_2_17_x86_64.manylinux2014_x86_64.whl.metadata (6.5 kB)\n",
      "Requirement already satisfied: typing-extensions>=4.6.1 in /opt/conda/lib/python3.11/site-packages (from pydantic->embaas) (4.7.1)\n",
      "Requirement already satisfied: anyio<5.0,>=3.0 in /opt/conda/lib/python3.11/site-packages (from httpcore<0.19.0,>=0.18.0->httpx->embaas) (4.0.0)\n",
      "Collecting h11<0.15,>=0.13 (from httpcore<0.19.0,>=0.18.0->httpx->embaas)\n",
      "  Downloading h11-0.14.0-py3-none-any.whl (58 kB)\n",
      "\u001b[2K     \u001b[90m━━━━━━━━━━━━━━━━━━━━━━━━━━━━━━━━━━━━━━━━\u001b[0m \u001b[32m58.3/58.3 kB\u001b[0m \u001b[31m7.1 MB/s\u001b[0m eta \u001b[36m0:00:00\u001b[0m\n",
      "\u001b[?25hDownloading embaas-0.0.7-py3-none-any.whl (18 kB)\n",
      "Downloading httpx-0.25.0-py3-none-any.whl (75 kB)\n",
      "\u001b[2K   \u001b[90m━━━━━━━━━━━━━━━━━━━━━━━━━━━━━━━━━━━━━━━━\u001b[0m \u001b[32m75.7/75.7 kB\u001b[0m \u001b[31m11.1 MB/s\u001b[0m eta \u001b[36m0:00:00\u001b[0m\n",
      "\u001b[?25hDownloading pydantic-2.4.2-py3-none-any.whl (395 kB)\n",
      "\u001b[2K   \u001b[90m━━━━━━━━━━━━━━━━━━━━━━━━━━━━━━━━━━━━━━━━\u001b[0m \u001b[32m395.8/395.8 kB\u001b[0m \u001b[31m19.0 MB/s\u001b[0m eta \u001b[36m0:00:00\u001b[0m\n",
      "\u001b[?25hDownloading pydantic_core-2.10.1-cp311-cp311-manylinux_2_17_x86_64.manylinux2014_x86_64.whl (2.0 MB)\n",
      "\u001b[2K   \u001b[90m━━━━━━━━━━━━━━━━━━━━━━━━━━━━━━━━━━━━━━━━\u001b[0m \u001b[32m2.0/2.0 MB\u001b[0m \u001b[31m31.0 MB/s\u001b[0m eta \u001b[36m0:00:00\u001b[0ma \u001b[36m0:00:01\u001b[0m\n",
      "\u001b[?25hDownloading annotated_types-0.6.0-py3-none-any.whl (12 kB)\n",
      "Downloading httpcore-0.18.0-py3-none-any.whl (76 kB)\n",
      "\u001b[2K   \u001b[90m━━━━━━━━━━━━━━━━━━━━━━━━━━━━━━━━━━━━━━━━\u001b[0m \u001b[32m76.0/76.0 kB\u001b[0m \u001b[31m5.3 MB/s\u001b[0m eta \u001b[36m0:00:00\u001b[0mta \u001b[36m0:00:01\u001b[0m\n",
      "\u001b[?25hInstalling collected packages: pydantic-core, h11, annotated-types, pydantic, httpcore, httpx, embaas\n",
      "Successfully installed annotated-types-0.6.0 embaas-0.0.7 h11-0.14.0 httpcore-0.18.0 httpx-0.25.0 pydantic-2.4.2 pydantic-core-2.10.1\n"
     ]
    }
   ],
   "source": [
    "!pip install openai openai[datalib] scikit-learn matplotlib embaas"
   ]
  },
  {
   "cell_type": "markdown",
   "id": "a8100f63-0787-4c5b-a1ad-19d999694477",
   "metadata": {},
   "source": [
    "### Embedding Model Selection"
   ]
  },
  {
   "cell_type": "code",
   "execution_count": null,
   "id": "3569d69d-bd6a-403d-a610-05b9a9711576",
   "metadata": {},
   "outputs": [],
   "source": [
    "# 在前两节课程中，我们讲述了 Embedding 究竟是怎样一回事？\n",
    "# 但是有众多的 Embedding Model，我该如何选？"
   ]
  },
  {
   "cell_type": "markdown",
   "id": "6efab140-3789-45f1-bac8-349fb57e2441",
   "metadata": {},
   "source": [
    "![s1](./resource/images/s1_embedding_model_selection.png)"
   ]
  },
  {
   "cell_type": "markdown",
   "id": "e52ccfd0-9670-4d5a-a159-e06cd8048212",
   "metadata": {},
   "source": [
    "![s2](./resource/images/s2_embedding_model_selection.png)"
   ]
  },
  {
   "cell_type": "markdown",
   "id": "4bc490c7-60de-4ea9-a1dc-e95defeb116d",
   "metadata": {},
   "source": [
    "![s3](./resource/images/s3_embedding_model_selection.png)"
   ]
  },
  {
   "cell_type": "markdown",
   "id": "4dec0329-68ba-4a70-8c97-71fd490294d6",
   "metadata": {},
   "source": [
    "![s4](./resource/images/s4_embedding_model_selection.png)"
   ]
  },
  {
   "cell_type": "markdown",
   "id": "1b101891-24ba-4520-b2dc-0d74e690aa6d",
   "metadata": {},
   "source": [
    "![s5](./resource/images/s5_embedding_model_selection.png)"
   ]
  },
  {
   "cell_type": "markdown",
   "id": "e1a7c34b-e20b-40c4-bf49-b24eeae16db7",
   "metadata": {},
   "source": [
    "![s6](./resource/images/s6_embedding_model_selection.png)"
   ]
  },
  {
   "cell_type": "code",
   "execution_count": 127,
   "id": "07e791c3-287c-4844-80a1-cb9eb5a39c01",
   "metadata": {},
   "outputs": [],
   "source": [
    "# 先来回顾下文本向量化的过程\n",
    "import openai\n",
    "\n",
    "def text_embedding(input):\n",
    "    response = openai.Embedding.create(\n",
    "      model=\"text-embedding-ada-002\",\n",
    "      input=input\n",
    "    )\n",
    "    \n",
    "    output = []\n",
    "    for item in response['data']:\n",
    "        output.append(item['embedding'])\n",
    "        \n",
    "    return output"
   ]
  },
  {
   "cell_type": "code",
   "execution_count": 128,
   "id": "27cefd67-a181-4741-bfc1-a356e9a71b66",
   "metadata": {},
   "outputs": [],
   "source": [
    "# 原始文本\n",
    "sentences = [ \"你好\", \"早上好\", \"中午好\", \"晚上好\",\n",
    "             \"小盖是谁\", \"小盖是墨问西东最帅的男人。\", \n",
    "             \"瑶瑶是墨问西东的颜值担当，遥遥领先。\",\n",
    "             \"这个季节就是皮肤的水分流失相当快，要特别注重补水哦！我们新出了一款产品，使用后皮肤水汪汪的，滋润而不油腻。是我们卖的最好的明星产品之一。\"]\n",
    "\n",
    "# 类别标签 \n",
    "labels = [0, 0, 0, 0, 1, 1, 2, 3] \n",
    "\n",
    "# 向量化\n",
    "vectors = text_embedding(sentences)"
   ]
  },
  {
   "cell_type": "code",
   "execution_count": 44,
   "id": "2bc9bc41-e9f8-4948-8a6f-137b92f11be4",
   "metadata": {},
   "outputs": [
    {
     "name": "stdout",
     "output_type": "stream",
     "text": [
      "一共有 8 个向量，每一个向量的维度都是 1536\n"
     ]
    }
   ],
   "source": [
    "print(f'一共有 {len(vectors) } 个向量，每一个向量的维度都是 {len(vectors[0])}')"
   ]
  },
  {
   "cell_type": "code",
   "execution_count": 45,
   "id": "37e9cd09-6b5f-4bd4-b8b8-f3b2ff17c8b5",
   "metadata": {},
   "outputs": [],
   "source": [
    "# 先把向量从 1536维 变成 3 维\n",
    "from mpl_toolkits.mplot3d import Axes3D\n",
    "from sklearn.decomposition import PCA\n",
    "\n",
    "pca = PCA(n_components=3)\n",
    "data_transformed = pca.fit_transform(vectors)"
   ]
  },
  {
   "cell_type": "code",
   "execution_count": 46,
   "id": "d21977f0-f518-4fc7-ba33-639ca6b85477",
   "metadata": {},
   "outputs": [
    {
     "name": "stdout",
     "output_type": "stream",
     "text": [
      "原来的维度是 1536，现在的维度是 3\n"
     ]
    }
   ],
   "source": [
    "print(f'原来的维度是 {len(vectors[0])}，现在的维度是 {data_transformed.shape[1]}')"
   ]
  },
  {
   "cell_type": "code",
   "execution_count": 47,
   "id": "d2f79bf3-b2fb-45ea-97b3-c8473ecf19ef",
   "metadata": {},
   "outputs": [
    {
     "data": {
      "image/png": "[encoded data removed]",
      "text/plain": [
       "<Figure size 640x480 with 1 Axes>"
      ]
     },
     "metadata": {},
     "output_type": "display_data"
    }
   ],
   "source": [
    "# 可视化下三维情况下的向量空间\n",
    "import matplotlib.pyplot as plt\n",
    "\n",
    "fig = plt.figure()\n",
    "ax = fig.add_subplot(111, projection='3d')\n",
    "\n",
    "colors = ['r', 'g', 'b', 'y']\n",
    "for i in range(len(data_transformed)):\n",
    "    ax.scatter(data_transformed[i, 0], data_transformed[i, 1],\n",
    "    data_transformed[i, 2], c=colors[labels[i]])\n",
    "\n",
    "ax.set_xlabel('X')\n",
    "ax.set_ylabel('Y')\n",
    "ax.set_zlabel('Z')\n",
    "plt.show()"
   ]
  },
  {
   "cell_type": "code",
   "execution_count": 48,
   "id": "d0c14ba5-493f-494f-aca0-c708e0c267f1",
   "metadata": {},
   "outputs": [],
   "source": [
    "# 以上只是我们从单一角度去判断模型好和坏，那么如何用更加具体的方式来评估呢\n",
    "\n",
    "# 是否开源\n",
    "# 是否可商用\n",
    "# 法律法规\n",
    "# 输入的模态\n",
    "# 支持语言\n",
    "# 模型大小\n",
    "# 推理速度\n",
    "# 算力开销\n",
    "# 输入的令牌个数\n",
    "# 输出的向量维度\n",
    "# 测试任务表现\n",
    "# 实际业务表现"
   ]
  },
  {
   "cell_type": "markdown",
   "id": "fd8e488b-8a9c-4ccb-9148-705fed947883",
   "metadata": {},
   "source": [
    "#### License"
   ]
  },
  {
   "cell_type": "code",
   "execution_count": null,
   "id": "45194055-35e4-4315-81f1-86724aa2a9f9",
   "metadata": {},
   "outputs": [],
   "source": [
    "# 数据集\n",
    "# 训练代码\n",
    "# 模型权重"
   ]
  },
  {
   "cell_type": "code",
   "execution_count": null,
   "id": "628542cc-38fa-4030-b75a-b1ed7095b39b",
   "metadata": {},
   "outputs": [],
   "source": []
  },
  {
   "cell_type": "code",
   "execution_count": null,
   "id": "09010239-5051-4161-a428-d67cb9b179d0",
   "metadata": {},
   "outputs": [],
   "source": []
  },
  {
   "cell_type": "markdown",
   "id": "09ecac9e-0792-4a42-85a1-53432939be76",
   "metadata": {},
   "source": [
    "#### Benchmark"
   ]
  },
  {
   "cell_type": "code",
   "execution_count": null,
   "id": "81013bb3-d9cf-4920-b690-6ccd6dd41504",
   "metadata": {},
   "outputs": [],
   "source": [
    "# Embedding Model Leader Board\n",
    "# MTEB 包含 8 个任务的 56 个数据集\n",
    "\n",
    "# Paper:       https://arxiv.org/pdf/2210.07316.pdf\n",
    "# Blog:        https://huggingface.co/blog/mteb\n",
    "# Github:      https://github.com/embeddings-benchmark/mteb\n",
    "# HuggingFace: https://huggingface.co/spaces/mteb/leaderboard"
   ]
  },
  {
   "cell_type": "markdown",
   "id": "e8e2fbb9-e5a7-42c3-a411-7747f2ca96c8",
   "metadata": {},
   "source": [
    "![MTEB_LeaderBoard](./resource/images/MTEB_LeaderBoard.png)"
   ]
  },
  {
   "cell_type": "code",
   "execution_count": null,
   "id": "d2ee8993-fc49-4603-a63d-d8a3545a11f3",
   "metadata": {},
   "outputs": [],
   "source": []
  },
  {
   "cell_type": "markdown",
   "id": "53377777-3dc8-4d5d-b96b-a7ebbd82f896",
   "metadata": {},
   "source": [
    "#### Embedding As A Service"
   ]
  },
  {
   "cell_type": "code",
   "execution_count": null,
   "id": "11f4cc71-c289-4bec-8f2a-94fd43f7daa0",
   "metadata": {},
   "outputs": [],
   "source": [
    "# 另外一种行业趋势，提供在线的文本嵌入能力 API，不需要用户部署任何模型\n",
    "# https://embaas.io/"
   ]
  },
  {
   "cell_type": "code",
   "execution_count": null,
   "id": "68226e9f-c3f4-4cd3-af06-c0b07b88680b",
   "metadata": {},
   "outputs": [],
   "source": []
  },
  {
   "cell_type": "code",
   "execution_count": null,
   "id": "a091a310-d442-4b38-bd69-75358e87a879",
   "metadata": {},
   "outputs": [],
   "source": []
  },
  {
   "cell_type": "markdown",
   "id": "00a0d0e4-5a9e-4324-903b-f72b94f8c7d2",
   "metadata": {},
   "source": [
    "### Vector Database Selection"
   ]
  },
  {
   "cell_type": "code",
   "execution_count": null,
   "id": "f3ccbf80-57b2-4464-be1c-82f7cc9f861e",
   "metadata": {},
   "outputs": [],
   "source": [
    "# 在之前已经学会了 CURD 去操作向量数据库\n",
    "# 但是还有一些关键指标需要熟悉，才能更好去洞察每一个不同点"
   ]
  },
  {
   "cell_type": "markdown",
   "id": "5cd11469-281e-4888-869f-aa463d3cfb4e",
   "metadata": {},
   "source": [
    "![s1](./resource/images/s1_vector_database_selection.png)"
   ]
  },
  {
   "cell_type": "markdown",
   "id": "9e3dbfce-6d43-43d8-8c7a-d0a69b871ebf",
   "metadata": {},
   "source": [
    "![s2](./resource/images/s2_vector_database_selection.png)"
   ]
  },
  {
   "cell_type": "markdown",
   "id": "9e4fa37b-e4f6-4ccc-b614-27004cb03e6e",
   "metadata": {},
   "source": [
    "![s3](./resource/images/s3_vector_database_selection.png)"
   ]
  },
  {
   "cell_type": "code",
   "execution_count": null,
   "id": "de010d15-de59-465d-95c9-436732fce830",
   "metadata": {},
   "outputs": [],
   "source": [
    "# 向量数据库排行榜\n",
    "# https://db-engines.com/en/ranking/vector+dbms"
   ]
  },
  {
   "cell_type": "markdown",
   "id": "cd7b36dd-f19e-4ec1-930b-27e5689191ac",
   "metadata": {},
   "source": [
    "![VectorDatabase_Ranking](./resource/images/VectorDatabase_Ranking.png)"
   ]
  },
  {
   "cell_type": "code",
   "execution_count": null,
   "id": "6b7a0b63-db59-4998-9cc8-46fdaf105ef8",
   "metadata": {},
   "outputs": [],
   "source": [
    "# 影响到选择的一些因素\n",
    "\n",
    "# 文档的数量\n",
    "# 向量的维度 \n",
    "# 相似度的计算方式\n",
    "# 字段索引类型\n",
    "# 字段数据类型\n",
    "# 标量/向量/混合查询\n",
    "# 副本、分片支持\n",
    "# 分布式部署"
   ]
  },
  {
   "cell_type": "markdown",
   "id": "0383abf6-0a5c-4221-85d5-b63f0bf84078",
   "metadata": {},
   "source": [
    "#### 相似度的计算方式"
   ]
  },
  {
   "cell_type": "code",
   "execution_count": null,
   "id": "e3e19df8-8328-42be-940c-6de6dbc2ef2d",
   "metadata": {},
   "outputs": [],
   "source": [
    "# 为了表达出向量与向量之间的相似度情况\n",
    "# 就好像通过外表穿着打扮来评估是哪一个地域/国家的人\n",
    "# https://milvus.io/docs/v2.0.x/metric.md"
   ]
  },
  {
   "cell_type": "markdown",
   "id": "1020f3f0-c27a-46d0-80ec-51c1f5147297",
   "metadata": {},
   "source": [
    "![Similarity_Algorithm](./resource/images/Similarity_Algorithm.png)"
   ]
  },
  {
   "cell_type": "code",
   "execution_count": 116,
   "id": "fe4690a0-53cb-42be-b4b9-0935313b8e73",
   "metadata": {},
   "outputs": [
    {
     "data": {
      "text/plain": [
       "5.656854249492381"
      ]
     },
     "execution_count": 116,
     "metadata": {},
     "output_type": "execute_result"
    }
   ],
   "source": [
    "# L2 (Euclidean Distance)\n",
    "# 两点间的直线距离\n",
    "\n",
    "import numpy as np\n",
    "\n",
    "vec1 = np.array([2, 5])\n",
    "vec2 = np.array([6, 1])\n",
    "\n",
    "d = np.linalg.norm(vec1-vec2, ord=2)\n",
    "# 或者\n",
    "d = np.sqrt(np.sum(np.square(vec1-vec2)))\n",
    "d"
   ]
  },
  {
   "cell_type": "code",
   "execution_count": 117,
   "id": "fa59b7c6-cd89-42f4-a8f5-186d494a93e1",
   "metadata": {},
   "outputs": [
    {
     "data": {
      "image/png": "[encoded data removed]",
      "text/plain": [
       "<Figure size 640x480 with 1 Axes>"
      ]
     },
     "metadata": {},
     "output_type": "display_data"
    }
   ],
   "source": [
    "x = vec1\n",
    "y = vec2\n",
    "\n",
    "plt.scatter(x, y)\n",
    "plt.plot(x, y, linestyle='dashed')\n",
    "\n",
    "plt.xlim(0, 10)\n",
    "plt.ylim(0, 10)\n",
    "plt.title('Euclidean Distance')\n",
    "plt.show()"
   ]
  },
  {
   "cell_type": "code",
   "execution_count": 118,
   "id": "7b52b824-a0b7-4d91-894e-37bef4d134f3",
   "metadata": {},
   "outputs": [
    {
     "data": {
      "text/plain": [
       "0.5189781342417641"
      ]
     },
     "execution_count": 118,
     "metadata": {},
     "output_type": "execute_result"
    }
   ],
   "source": [
    "# IP (Inner Product)\n",
    "# 两个向量的内积除以两个向量长度的乘积\n",
    "\n",
    "vec1 = np.array([2, 5])\n",
    "vec2 = np.array([6, 1])\n",
    "\n",
    "d = np.dot(vec1, vec2) / (np.linalg.norm(vec1) * np.linalg.norm(vec2))\n",
    "d"
   ]
  },
  {
   "cell_type": "code",
   "execution_count": 122,
   "id": "fc2eca14-349a-4e7e-8e7b-d36626732d3c",
   "metadata": {},
   "outputs": [
    {
     "data": {
      "text/plain": [
       "0.5189781342417641"
      ]
     },
     "execution_count": 122,
     "metadata": {},
     "output_type": "execute_result"
    }
   ],
   "source": [
    "# COS (Cosine Similarity)\n",
    "import numpy as np\n",
    "\n",
    "vec1 = np.array([2, 5])\n",
    "vec2 = np.array([6, 1])\n",
    "\n",
    "p = np.dot(vec1,vec2)/(np.linalg.norm(vec1)*(np.linalg.norm(vec2)))\n",
    "p"
   ]
  },
  {
   "cell_type": "code",
   "execution_count": 101,
   "id": "df0f6949-66a8-4ad9-af11-191c8d4a9f6a",
   "metadata": {},
   "outputs": [
    {
     "data": {
      "text/plain": [
       "58.736268305622566"
      ]
     },
     "execution_count": 101,
     "metadata": {},
     "output_type": "execute_result"
    }
   ],
   "source": [
    "# 角度还原\n",
    "np.arccos(d) * 180 / np.pi"
   ]
  },
  {
   "cell_type": "code",
   "execution_count": 124,
   "id": "22073f9c-9a6d-4bb5-b6ce-333ca74520db",
   "metadata": {},
   "outputs": [
    {
     "data": {
      "image/png": "[encoded data removed]",
      "text/plain": [
       "<Figure size 640x480 with 1 Axes>"
      ]
     },
     "metadata": {},
     "output_type": "display_data"
    }
   ],
   "source": [
    "point1 = vec1\n",
    "point2 = vec2\n",
    "\n",
    "angle = np.arccos(np.dot(point1, point2) / (np.linalg.norm(point1) * np.linalg.norm(point2)))\n",
    "\n",
    "plt.plot([point1[0], 0], [point1[1], 0], 'r-', label='Point 1')\n",
    "plt.plot([point2[0], 0], [point2[1], 0], 'g-', label='Point 2')\n",
    "plt.xlim(0, 10)\n",
    "plt.ylim(0, 10)\n",
    "plt.title('Cosine Similarity Angle: {:.2f} degrees'.format(np.degrees(angle)))  # 标题显示角度的度数\n",
    "\n",
    "plt.legend()\n",
    "plt.show()"
   ]
  },
  {
   "cell_type": "code",
   "execution_count": null,
   "id": "96e3aeda-c7a6-4202-aba0-6b867b337446",
   "metadata": {},
   "outputs": [],
   "source": [
    "# 直角坐标系在线演示\n",
    "# https://www.desmos.com/"
   ]
  },
  {
   "cell_type": "markdown",
   "id": "8852de12-b12d-4628-b37f-38ba1f827460",
   "metadata": {},
   "source": [
    "#### 字段数据类型"
   ]
  },
  {
   "cell_type": "code",
   "execution_count": null,
   "id": "e5d382cd-5973-4274-a38f-2c6d6a38a87c",
   "metadata": {},
   "outputs": [],
   "source": [
    "# https://milvus.io/docs/v2.0.x/schema.md"
   ]
  },
  {
   "cell_type": "markdown",
   "id": "15d67ed4-8c70-4619-bcdb-3d058551f716",
   "metadata": {},
   "source": [
    "#### 字段索引类型"
   ]
  },
  {
   "cell_type": "code",
   "execution_count": null,
   "id": "4e1bc185-8021-4a95-ae73-0903d4560055",
   "metadata": {},
   "outputs": [],
   "source": [
    "# https://milvus.io/docs/v2.0.x/index.md"
   ]
  },
  {
   "cell_type": "markdown",
   "id": "4da1f285-8f16-4a58-affa-da7c474a10d0",
   "metadata": {},
   "source": [
    "#### 标量/向量/混合查询"
   ]
  },
  {
   "cell_type": "code",
   "execution_count": null,
   "id": "e6a66a3b-68bc-4c92-9d41-59997e1baaaf",
   "metadata": {},
   "outputs": [],
   "source": [
    "# https://milvus.io/docs/v2.0.x/search.md\n",
    "# https://milvus.io/docs/v2.0.x/query.md\n",
    "# https://milvus.io/docs/v2.0.x/hybridsearch.md"
   ]
  },
  {
   "cell_type": "code",
   "execution_count": null,
   "id": "03c20b18-0e1c-49fa-90c3-decd3f696941",
   "metadata": {},
   "outputs": [],
   "source": []
  },
  {
   "cell_type": "markdown",
   "id": "c982d2ab-66be-4e8b-a661-02f79c07ab4c",
   "metadata": {},
   "source": [
    "### Large Language Model Selection"
   ]
  },
  {
   "cell_type": "code",
   "execution_count": 132,
   "id": "893835cc-a699-4ab2-9703-9e902fb64903",
   "metadata": {},
   "outputs": [],
   "source": [
    "# 选择大语言模型参考要素：\n",
    "\n",
    "# 是否开源\n",
    "# 是否可商用\n",
    "# 输入的模态\n",
    "# 输出的模态\n",
    "# 支持语言\n",
    "# 模型大小\n",
    "# 推理速度\n",
    "# 算力开销\n",
    "# 输入的令牌个数\n",
    "# 测试任务表现\n",
    "# 实际业务表现"
   ]
  },
  {
   "cell_type": "markdown",
   "id": "791adcde-dce2-486c-b850-10a85e11e3c9",
   "metadata": {},
   "source": [
    "#### Leader Board"
   ]
  },
  {
   "cell_type": "code",
   "execution_count": null,
   "id": "dd485654-d31a-40ae-94d4-ca0f30fe1f11",
   "metadata": {},
   "outputs": [],
   "source": [
    "# OpenCompass 大语言模型排行榜\n",
    "# https://opencompass.org.cn/leaderboard-llm\n",
    "\n",
    "# HuggingFace 大语言模型排行榜\n",
    "# https://huggingface.co/spaces/HuggingFaceH4/open_llm_leaderboard\n",
    " \n",
    "# C-Eval 中文大模型评估排行榜\n",
    "# https://cevalbenchmark.com/static/leaderboard_zh.html\n",
    "\n",
    "# SuperCLUE 中文通用大模型综合性基准\n",
    "# https://github.com/CLUEbenchmark/SuperCLUE"
   ]
  },
  {
   "cell_type": "markdown",
   "id": "7ece3ee5-a6c2-4f06-ac9e-bd133eceaabc",
   "metadata": {},
   "source": [
    "#### Model As A Service"
   ]
  },
  {
   "cell_type": "code",
   "execution_count": 130,
   "id": "6b72f55b-ebdc-43ec-a02e-d75205f64548",
   "metadata": {},
   "outputs": [],
   "source": [
    "# 另外一种行业趋势，提供开源的语言模型在线 API，不需要用户部署任何模型\n",
    "# 阿里云灵积平台\n",
    "# https://dashscope.console.aliyun.com/"
   ]
  },
  {
   "cell_type": "code",
   "execution_count": null,
   "id": "3c39c779-0f34-47d2-b6c8-c1d33e9ad863",
   "metadata": {},
   "outputs": [],
   "source": []
  },
  {
   "cell_type": "code",
   "execution_count": null,
   "id": "ea17a037-8969-46ad-b5ef-4ba57119cfcf",
   "metadata": {},
   "outputs": [],
   "source": []
  },
  {
   "cell_type": "markdown",
   "id": "211f112b-b60a-4a2f-903e-69c6449a3244",
   "metadata": {},
   "source": [
    "### Data Engineering"
   ]
  },
  {
   "cell_type": "markdown",
   "id": "54193858-cc56-437e-9e25-16d71574f0b7",
   "metadata": {},
   "source": [
    "#### 数据清洗\n"
   ]
  },
  {
   "cell_type": "code",
   "execution_count": 23,
   "id": "648cb380-e0eb-48ed-ad77-89ecf73752ae",
   "metadata": {},
   "outputs": [
    {
     "data": {
      "text/html": [
       "<div>\n",
       "<style scoped>\n",
       "    .dataframe tbody tr th:only-of-type {\n",
       "        vertical-align: middle;\n",
       "    }\n",
       "\n",
       "    .dataframe tbody tr th {\n",
       "        vertical-align: top;\n",
       "    }\n",
       "\n",
       "    .dataframe thead th {\n",
       "        text-align: right;\n",
       "    }\n",
       "</style>\n",
       "<table border=\"1\" class=\"dataframe\">\n",
       "  <thead>\n",
       "    <tr style=\"text-align: right;\">\n",
       "      <th></th>\n",
       "      <th>Name</th>\n",
       "      <th>Age</th>\n",
       "      <th>Location</th>\n",
       "      <th>Phone</th>\n",
       "    </tr>\n",
       "  </thead>\n",
       "  <tbody>\n",
       "    <tr>\n",
       "      <th>0</th>\n",
       "      <td>瑶瑶</td>\n",
       "      <td>18</td>\n",
       "      <td>北京</td>\n",
       "      <td>13100066666</td>\n",
       "    </tr>\n",
       "    <tr>\n",
       "      <th>1</th>\n",
       "      <td>张三</td>\n",
       "      <td>0</td>\n",
       "      <td>上海</td>\n",
       "      <td>13200022222</td>\n",
       "    </tr>\n",
       "    <tr>\n",
       "      <th>2</th>\n",
       "      <td>李四</td>\n",
       "      <td>19</td>\n",
       "      <td>广州</td>\n",
       "      <td>13300033333</td>\n",
       "    </tr>\n",
       "    <tr>\n",
       "      <th>3</th>\n",
       "      <td>王五</td>\n",
       "      <td>20</td>\n",
       "      <td>深圳</td>\n",
       "      <td>13400044444</td>\n",
       "    </tr>\n",
       "    <tr>\n",
       "      <th>4</th>\n",
       "      <td>赵六</td>\n",
       "      <td>21</td>\n",
       "      <td>None</td>\n",
       "      <td>13500055555</td>\n",
       "    </tr>\n",
       "  </tbody>\n",
       "</table>\n",
       "</div>"
      ],
      "text/plain": [
       "  Name  Age Location        Phone\n",
       "0   瑶瑶   18       北京  13100066666\n",
       "1   张三    0       上海  13200022222\n",
       "2   李四   19       广州  13300033333\n",
       "3   王五   20       深圳  13400044444\n",
       "4   赵六   21     None  13500055555"
      ]
     },
     "execution_count": 23,
     "metadata": {},
     "output_type": "execute_result"
    }
   ],
   "source": [
    "# 关注异常值，缺失值\n",
    "import pandas as pd\n",
    "\n",
    "data = {\n",
    "    'Name': [\"瑶瑶\",\"张三\", \"李四\", \"王五\", \"赵六\"],\n",
    "    'Age': [18, 0, 19, 20, 21],\n",
    "    'Location': [\"北京\", \"上海\", \"广州\", \"深圳\", None],\n",
    "    'Phone': [\"13100066666\", \"13200022222\", \"13300033333\", \"13400044444\", \"13500055555\"]\n",
    "}\n",
    "\n",
    "df = pd.DataFrame(data)\n",
    "df"
   ]
  },
  {
   "cell_type": "code",
   "execution_count": 9,
   "id": "fdbcd6ac-8c0f-44af-bbca-144359d03ddd",
   "metadata": {},
   "outputs": [
    {
     "data": {
      "text/html": [
       "<div>\n",
       "<style scoped>\n",
       "    .dataframe tbody tr th:only-of-type {\n",
       "        vertical-align: middle;\n",
       "    }\n",
       "\n",
       "    .dataframe tbody tr th {\n",
       "        vertical-align: top;\n",
       "    }\n",
       "\n",
       "    .dataframe thead th {\n",
       "        text-align: right;\n",
       "    }\n",
       "</style>\n",
       "<table border=\"1\" class=\"dataframe\">\n",
       "  <thead>\n",
       "    <tr style=\"text-align: right;\">\n",
       "      <th></th>\n",
       "      <th>Name</th>\n",
       "      <th>Age</th>\n",
       "      <th>Location</th>\n",
       "      <th>Phone</th>\n",
       "    </tr>\n",
       "  </thead>\n",
       "  <tbody>\n",
       "    <tr>\n",
       "      <th>1</th>\n",
       "      <td>张三</td>\n",
       "      <td>0</td>\n",
       "      <td>上海</td>\n",
       "      <td>13200002222</td>\n",
       "    </tr>\n",
       "  </tbody>\n",
       "</table>\n",
       "</div>"
      ],
      "text/plain": [
       "  Name  Age Location        Phone\n",
       "1   张三    0       上海  13200002222"
      ]
     },
     "execution_count": 9,
     "metadata": {},
     "output_type": "execute_result"
    }
   ],
   "source": [
    "df[df['Age'] < 1]"
   ]
  },
  {
   "cell_type": "code",
   "execution_count": 10,
   "id": "f980226c-9560-43dd-8fef-6aa5c3423a00",
   "metadata": {},
   "outputs": [
    {
     "data": {
      "text/html": [
       "<div>\n",
       "<style scoped>\n",
       "    .dataframe tbody tr th:only-of-type {\n",
       "        vertical-align: middle;\n",
       "    }\n",
       "\n",
       "    .dataframe tbody tr th {\n",
       "        vertical-align: top;\n",
       "    }\n",
       "\n",
       "    .dataframe thead th {\n",
       "        text-align: right;\n",
       "    }\n",
       "</style>\n",
       "<table border=\"1\" class=\"dataframe\">\n",
       "  <thead>\n",
       "    <tr style=\"text-align: right;\">\n",
       "      <th></th>\n",
       "      <th>Name</th>\n",
       "      <th>Age</th>\n",
       "      <th>Location</th>\n",
       "      <th>Phone</th>\n",
       "    </tr>\n",
       "  </thead>\n",
       "  <tbody>\n",
       "    <tr>\n",
       "      <th>4</th>\n",
       "      <td>赵六</td>\n",
       "      <td>21</td>\n",
       "      <td>None</td>\n",
       "      <td>13500005555</td>\n",
       "    </tr>\n",
       "  </tbody>\n",
       "</table>\n",
       "</div>"
      ],
      "text/plain": [
       "  Name  Age Location        Phone\n",
       "4   赵六   21     None  13500005555"
      ]
     },
     "execution_count": 10,
     "metadata": {},
     "output_type": "execute_result"
    }
   ],
   "source": [
    "df[pd.isnull(df['Location'])==True]"
   ]
  },
  {
   "cell_type": "code",
   "execution_count": null,
   "id": "3421ff78-a1cf-453b-9e45-d4db640d4248",
   "metadata": {},
   "outputs": [],
   "source": [
    "# 对于非结构化数据\n",
    "# 用大语言模型帮我们打工, 行不行？"
   ]
  },
  {
   "cell_type": "code",
   "execution_count": 1,
   "id": "ef075c79-19ad-46e9-98c8-7016b6481826",
   "metadata": {},
   "outputs": [],
   "source": [
    "import openai\n",
    "\n",
    "def ChatCompletion(system_prompt, user_prompt, top_p=1, n=1, temperature=0, max_tokens=2048):\n",
    "    response = openai.ChatCompletion.create(\n",
    "        model=\"gpt-3.5-turbo-0613\",\n",
    "        messages=[\n",
    "            {\"role\": \"system\", \"content\": system_prompt},\n",
    "            {\"role\": \"user\", \"content\": user_prompt},\n",
    "        ],\n",
    "        top_p=top_p,\n",
    "        n=n,\n",
    "        temperature=temperature, \n",
    "        max_tokens=max_tokens,\n",
    "    )\n",
    "    return response"
   ]
  },
  {
   "cell_type": "code",
   "execution_count": 169,
   "id": "f2527b8c-7023-478a-8437-6175cf6e7585",
   "metadata": {},
   "outputs": [
    {
     "name": "stdout",
     "output_type": "stream",
     "text": [
      "1.瑶瑶是墨问西东颜值最高的，遥遥领先。\n",
      "3.小盖是墨问西东最帅的男人，没有之一\n"
     ]
    }
   ],
   "source": [
    "system_prompt = \"你是一名数据清洗的助手，请你将有毒有害的垃圾信息进行剔除后进行输出\"\n",
    "user_prompt = \"1.瑶瑶是墨问西东颜值最高的，遥遥领先。 \\n2.我要毁灭人类，再造星球。 \\n3.小盖是墨问西东最帅的男人，没有之一\"\n",
    "\n",
    "output = ChatCompletion(system_prompt, user_prompt)[\"choices\"][0][\"message\"][\"content\"]\n",
    "print(output)"
   ]
  },
  {
   "cell_type": "markdown",
   "id": "a95c68bf-5ef5-47c8-8f4f-41ff863846b5",
   "metadata": {},
   "source": [
    "#### 数据增强"
   ]
  },
  {
   "cell_type": "code",
   "execution_count": 172,
   "id": "51acd669-d40f-4961-a195-cc983b2f1c91",
   "metadata": {},
   "outputs": [
    {
     "name": "stdout",
     "output_type": "stream",
     "text": [
      "谁是墨问西东颜值最高的人？\n"
     ]
    }
   ],
   "source": [
    "system_prompt = \"你是一名数据增强的助手，请你将输入文本再度发挥想象，更换成不同角度的问问题的方式，在进行输出\"\n",
    "user_prompt = \"瑶瑶是墨问西东颜值最高的，遥遥领先\"\n",
    "\n",
    "output = ChatCompletion(system_prompt, user_prompt)[\"choices\"][0][\"message\"][\"content\"]\n",
    "print(output)"
   ]
  },
  {
   "cell_type": "code",
   "execution_count": 175,
   "id": "d1029972-1801-4200-936f-3972043fc8fe",
   "metadata": {},
   "outputs": [
    {
     "name": "stdout",
     "output_type": "stream",
     "text": [
      "油性皮肤是否适合使用这款护肤品呢？\n"
     ]
    }
   ],
   "source": [
    "system_prompt = \"你是一名数据增强的助手，请你将输入文本再度发挥想象，更换成不同角度的问问题的方式，在进行输出\"\n",
    "user_prompt = \"这款护肤品对于油性皮肤适用吗\"\n",
    "\n",
    "output = ChatCompletion(system_prompt, user_prompt)[\"choices\"][0][\"message\"][\"content\"]\n",
    "print(output)"
   ]
  },
  {
   "cell_type": "code",
   "execution_count": 2,
   "id": "55da692a-41a3-4a7d-835c-d77837ce1ddc",
   "metadata": {},
   "outputs": [
    {
     "name": "stdout",
     "output_type": "stream",
     "text": [
      "油性皮肤的人可以使用这款护肤品吗？\n",
      "这款护肤品适合那些有油性皮肤的人使用吗？\n",
      "对于油性皮肤来说，这款护肤品合适吗？\n",
      "这款护肤品能否满足油性皮肤需求？\n",
      "油性皮肤是否可以使用这款护肤品呢？\n",
      "你觉得这款护肤品适合哪种皮肤类型使用呢？\n",
      "油性皮肤对这款护肤品来说合适吗？\n",
      "油性肌肤是否适合使用这款护肤品？\n"
     ]
    }
   ],
   "source": [
    "system_prompt = \"你是一名数据增强的助手，请你将输入文本再度发挥想象，更换成不同角度的问问题的方式，在进行输出\"\n",
    "user_prompt = \"这款护肤品对于油性皮肤适用吗\"\n",
    "\n",
    "output = ChatCompletion(system_prompt, user_prompt,temperature=1, n=5)\n",
    "\n",
    "for item in output[\"choices\"]:\n",
    "    print(item[\"message\"][\"content\"])"
   ]
  },
  {
   "cell_type": "code",
   "execution_count": null,
   "id": "6476de71-6d0d-4699-8147-3824fb1b2b89",
   "metadata": {},
   "outputs": [],
   "source": []
  },
  {
   "cell_type": "markdown",
   "id": "9786515d-5e4a-4f2e-b369-14e08a63179d",
   "metadata": {},
   "source": [
    "#### 数据脱敏"
   ]
  },
  {
   "cell_type": "code",
   "execution_count": 14,
   "id": "ae9c25dc-ae82-457b-a168-0775044dbe3c",
   "metadata": {},
   "outputs": [],
   "source": [
    "# 在大语言模型 或者是 嵌入模型 的工作过程\n",
    "# 如果设计到第三方的API，就会产生数据安全问题\n",
    "# 例如员工信息、供应商信息、客户信息、财务信息等等"
   ]
  },
  {
   "cell_type": "code",
   "execution_count": 19,
   "id": "8976f6f2-f6e7-430a-a014-469b22865996",
   "metadata": {},
   "outputs": [
    {
     "data": {
      "text/html": [
       "<div>\n",
       "<style scoped>\n",
       "    .dataframe tbody tr th:only-of-type {\n",
       "        vertical-align: middle;\n",
       "    }\n",
       "\n",
       "    .dataframe tbody tr th {\n",
       "        vertical-align: top;\n",
       "    }\n",
       "\n",
       "    .dataframe thead th {\n",
       "        text-align: right;\n",
       "    }\n",
       "</style>\n",
       "<table border=\"1\" class=\"dataframe\">\n",
       "  <thead>\n",
       "    <tr style=\"text-align: right;\">\n",
       "      <th></th>\n",
       "      <th>Name</th>\n",
       "      <th>Age</th>\n",
       "      <th>Location</th>\n",
       "      <th>Phone</th>\n",
       "    </tr>\n",
       "  </thead>\n",
       "  <tbody>\n",
       "    <tr>\n",
       "      <th>0</th>\n",
       "      <td>瑶瑶</td>\n",
       "      <td>18</td>\n",
       "      <td>北京</td>\n",
       "      <td>13100066666</td>\n",
       "    </tr>\n",
       "    <tr>\n",
       "      <th>1</th>\n",
       "      <td>张三</td>\n",
       "      <td>0</td>\n",
       "      <td>上海</td>\n",
       "      <td>13200022222</td>\n",
       "    </tr>\n",
       "    <tr>\n",
       "      <th>2</th>\n",
       "      <td>李四</td>\n",
       "      <td>19</td>\n",
       "      <td>广州</td>\n",
       "      <td>13300033333</td>\n",
       "    </tr>\n",
       "    <tr>\n",
       "      <th>3</th>\n",
       "      <td>王五</td>\n",
       "      <td>20</td>\n",
       "      <td>深圳</td>\n",
       "      <td>13400044444</td>\n",
       "    </tr>\n",
       "    <tr>\n",
       "      <th>4</th>\n",
       "      <td>赵六</td>\n",
       "      <td>21</td>\n",
       "      <td>None</td>\n",
       "      <td>13500055555</td>\n",
       "    </tr>\n",
       "  </tbody>\n",
       "</table>\n",
       "</div>"
      ],
      "text/plain": [
       "  Name  Age Location        Phone\n",
       "0   瑶瑶   18       北京  13100066666\n",
       "1   张三    0       上海  13200022222\n",
       "2   李四   19       广州  13300033333\n",
       "3   王五   20       深圳  13400044444\n",
       "4   赵六   21     None  13500055555"
      ]
     },
     "execution_count": 19,
     "metadata": {},
     "output_type": "execute_result"
    }
   ],
   "source": [
    "# 结构化数据，那还好办\n",
    "df"
   ]
  },
  {
   "cell_type": "code",
   "execution_count": 24,
   "id": "94c10898-118d-4bbc-b314-3561f459f6de",
   "metadata": {},
   "outputs": [
    {
     "data": {
      "text/html": [
       "<div>\n",
       "<style scoped>\n",
       "    .dataframe tbody tr th:only-of-type {\n",
       "        vertical-align: middle;\n",
       "    }\n",
       "\n",
       "    .dataframe tbody tr th {\n",
       "        vertical-align: top;\n",
       "    }\n",
       "\n",
       "    .dataframe thead th {\n",
       "        text-align: right;\n",
       "    }\n",
       "</style>\n",
       "<table border=\"1\" class=\"dataframe\">\n",
       "  <thead>\n",
       "    <tr style=\"text-align: right;\">\n",
       "      <th></th>\n",
       "      <th>Name</th>\n",
       "      <th>Age</th>\n",
       "      <th>Location</th>\n",
       "      <th>Phone</th>\n",
       "    </tr>\n",
       "  </thead>\n",
       "  <tbody>\n",
       "    <tr>\n",
       "      <th>0</th>\n",
       "      <td>瑶瑶</td>\n",
       "      <td>18</td>\n",
       "      <td>北京</td>\n",
       "      <td>131****66</td>\n",
       "    </tr>\n",
       "    <tr>\n",
       "      <th>1</th>\n",
       "      <td>张三</td>\n",
       "      <td>0</td>\n",
       "      <td>上海</td>\n",
       "      <td>132****22</td>\n",
       "    </tr>\n",
       "    <tr>\n",
       "      <th>2</th>\n",
       "      <td>李四</td>\n",
       "      <td>19</td>\n",
       "      <td>广州</td>\n",
       "      <td>133****33</td>\n",
       "    </tr>\n",
       "    <tr>\n",
       "      <th>3</th>\n",
       "      <td>王五</td>\n",
       "      <td>20</td>\n",
       "      <td>深圳</td>\n",
       "      <td>134****44</td>\n",
       "    </tr>\n",
       "    <tr>\n",
       "      <th>4</th>\n",
       "      <td>赵六</td>\n",
       "      <td>21</td>\n",
       "      <td>None</td>\n",
       "      <td>135****55</td>\n",
       "    </tr>\n",
       "  </tbody>\n",
       "</table>\n",
       "</div>"
      ],
      "text/plain": [
       "  Name  Age Location      Phone\n",
       "0   瑶瑶   18       北京  131****66\n",
       "1   张三    0       上海  132****22\n",
       "2   李四   19       广州  133****33\n",
       "3   王五   20       深圳  134****44\n",
       "4   赵六   21     None  135****55"
      ]
     },
     "execution_count": 24,
     "metadata": {},
     "output_type": "execute_result"
    }
   ],
   "source": [
    "df['Phone'] = df['Phone'].str[:3] + '****' + df['Phone'].str[9:]\n",
    "df"
   ]
  },
  {
   "cell_type": "code",
   "execution_count": null,
   "id": "81c707e7-aa63-4703-831d-baae9e3be45d",
   "metadata": {},
   "outputs": [],
   "source": [
    "# 非结构化的数据呢\n",
    "\n",
    "# https://microsoft.github.io/presidio/\n",
    "# https://presidio-demo.azurewebsites.net/"
   ]
  },
  {
   "cell_type": "code",
   "execution_count": 26,
   "id": "b730ebb7-c6d3-446b-99ca-2fa2630a5fba",
   "metadata": {},
   "outputs": [],
   "source": [
    "# 解决方案是对原始文本进行命名实体识别，并将对应的文本进行替换\n",
    "\n",
    "text = \"John Doe lives in New York and works at Google\"\n",
    "# Output: **** *** lives in *** **** and works at ******"
   ]
  },
  {
   "cell_type": "code",
   "execution_count": null,
   "id": "65458ba8-b00f-4224-9195-9bc1396d5734",
   "metadata": {},
   "outputs": [],
   "source": [
    "# Mask 虽然可以解决对敏感数据的遮掩 但是对学习到的能力有会缺少\n",
    "\n",
    "text = \"John Doe lives in New York and works at Google\"\n",
    "# Output: <PERSON> <PERSON> lives in <LOCATION> <LOCATION> and works at <ORGANIZATION>."
   ]
  },
  {
   "cell_type": "code",
   "execution_count": null,
   "id": "e66f47cf-c10b-4b84-bd39-12765f407c11",
   "metadata": {},
   "outputs": [],
   "source": [
    "# 也可以用维护好的知识来替换掉敏感数据，解密后再映射即可\n",
    "\n",
    "# Output: <PERSON> <PERSON> lives in <LOCATION> <LOCATION> and works at <ORGANIZATION>.\n",
    "output \"John Doe lives in New York and works at 沙县小吃\" \n",
    "\n",
    "mapping = {\n",
    "    \"沙县小吃\": \"Google\"\n",
    "    \"隆江猪脚饭\": \"Facebook\"\n",
    "    \"兰州拉面\": \"Apple\"\n",
    "}\n",
    "\n",
    "actual = \"John Doe lives in New York and works at Google\" "
   ]
  },
  {
   "cell_type": "code",
   "execution_count": 28,
   "id": "3ad1aabe-fa94-41f6-b3dd-1a99b445697c",
   "metadata": {},
   "outputs": [
    {
     "name": "stdout",
     "output_type": "stream",
     "text": [
      "{\n",
      "  \"PERSON\": [\n",
      "    {\n",
      "      \"name\": \"John Doe\"\n",
      "    }\n",
      "  ],\n",
      "  \"LOCATION\": [\n",
      "    {\n",
      "      \"name\": \"New York\"\n",
      "    }\n",
      "  ],\n",
      "  \"ORGANIZATION\": [\n",
      "    {\n",
      "      \"name\": \"Google\"\n",
      "    }\n",
      "  ]\n",
      "}\n"
     ]
    }
   ],
   "source": [
    "# 工作过程解密，实际就是 NER 命名实体识别，然后找到位置后替换掉而已\n",
    "system_prompt = \"you are NER task, user will input text, you should output json format\"\n",
    "user_prompt = text\n",
    "\n",
    "output = ChatCompletion(system_prompt, user_prompt)[\"choices\"][0][\"message\"][\"content\"]\n",
    "print(output)"
   ]
  },
  {
   "cell_type": "code",
   "execution_count": null,
   "id": "0c027b82-ec3b-4e30-934c-58cf44fe9379",
   "metadata": {},
   "outputs": [],
   "source": []
  },
  {
   "cell_type": "markdown",
   "id": "618c0095-4e80-4d3f-b2d7-d551209819d8",
   "metadata": {},
   "source": [
    "#### 多路召回"
   ]
  },
  {
   "cell_type": "code",
   "execution_count": null,
   "id": "1f0bdc5a-c9f2-4825-9450-e6905bcf2783",
   "metadata": {},
   "outputs": [],
   "source": [
    "# 中大型的系统，不仅仅只用一个方式来进行知识库召回的\n",
    "# 类似基于向量相似度的召回方式，我们可以同时用多个 Embedding 进行工作\n",
    "# 不仅如此方式，可以是基于QA的协同过滤、基于深度学习的分类网络等等"
   ]
  },
  {
   "cell_type": "code",
   "execution_count": 42,
   "id": "f5fbf742-d274-4f6e-b923-cfdcd7ad7e36",
   "metadata": {},
   "outputs": [],
   "source": [
    "# 多个 Embedding Model 同时工作\n",
    "# 为了方便演示，这里全部用在线的模型，工程上大部分是来自特殊业务微调过的嵌入模型\n",
    "# https://platform.openai.com/docs/guides/embeddings/what-are-embeddings \n",
    "\n",
    "# 第一步，确认模型名称及个数\n",
    "embedding_models = [\"text-search-ada-query-001\", \"text-search-babbage-query-001\", \"text-search-curie-query-001\"]\n",
    "\n",
    "def text_embedding(model, input):\n",
    "    response = openai.Embedding.create(\n",
    "      model=model,\n",
    "      input=input\n",
    "    )\n",
    "    output = []\n",
    "    for item in response['data']:\n",
    "        output.append(item['embedding'])\n",
    "    return output "
   ]
  },
  {
   "cell_type": "code",
   "execution_count": 86,
   "id": "c590b540-6ee7-43c6-bb18-62043df8fc6c",
   "metadata": {},
   "outputs": [
    {
     "name": "stdout",
     "output_type": "stream",
     "text": [
      "Embedding Model: text-search-ada-query-001, Document Count: 3, Dimension: 1024\n",
      "Embedding Model: text-search-babbage-query-001, Document Count: 3, Dimension: 2048\n",
      "Embedding Model: text-search-curie-query-001, Document Count: 3, Dimension: 4096\n"
     ]
    }
   ],
   "source": [
    "# 第二步，模型嵌入分别对原始文本做 Embedding 操作\n",
    "\n",
    "knowledge_base = [\n",
    "    \"小盖是谁? 小盖是墨问西东最帅的男人。\",\n",
    "    \"瑶瑶是谁? 瑶瑶是墨问西东的颜值担当，遥遥领先。\",\n",
    "    \"皮肤很干怎么办? 这个季节就是皮肤的水分流失相当快，要特别注重补水哦！我们新出了一款产品，使用后皮肤水汪汪的，滋润而不油腻。是我们卖的最好的明星产品之一。\",\n",
    "]\n",
    "\n",
    "vector_list = []\n",
    "for i in range(len(embedding_models)):\n",
    "    vector_list.append(text_embedding(embedding_models[i], knowledge_base))\n",
    "    print(f\"Embedding Model: {embedding_models[i]}, Document Count: {len(vector_list[i])}, Dimension: {len(vector_list[i][0])}\")"
   ]
  },
  {
   "cell_type": "code",
   "execution_count": 87,
   "id": "77d20b51-ca59-4307-9d25-091a5ca58cc2",
   "metadata": {},
   "outputs": [
    {
     "name": "stdout",
     "output_type": "stream",
     "text": [
      "Embedding Model: text-search-ada-query-001, Dimension: 1024\n",
      "Embedding Model: text-search-babbage-query-001, Dimension: 2048\n",
      "Embedding Model: text-search-curie-query-001, Dimension: 4096\n"
     ]
    }
   ],
   "source": [
    "# 第三步，模型嵌入分别对问题做 Embedding 操作\n",
    "\n",
    "question = \"瑶瑶是谁\"\n",
    " \n",
    "vectors = []\n",
    "for i in range(len(embedding_models)):\n",
    "    vectors.append(text_embedding(embedding_models[i], question)[0])\n",
    "    print(f\"Embedding Model: {embedding_models[i]}, Dimension: {len(vectors[i])}\")"
   ]
  },
  {
   "cell_type": "code",
   "execution_count": 96,
   "id": "7d19296a-218f-4815-a9bb-a1b6661cba30",
   "metadata": {},
   "outputs": [
    {
     "name": "stdout",
     "output_type": "stream",
     "text": [
      "Embedding Model: text-search-ada-query-001, Similarity: [0.77036794 0.8831387  0.67596955]\n",
      "Embedding Model: text-search-babbage-query-001, Similarity: [0.78754986 0.88490865 0.68581991]\n",
      "Embedding Model: text-search-curie-query-001, Similarity: [0.75276661 0.88361362 0.62241304]\n"
     ]
    }
   ],
   "source": [
    "# 第四步，分别做向量相似度的计算\n",
    "\n",
    "similaritys = []\n",
    "for i in range(len(embedding_models)):\n",
    "    v = np.array(vectors[i])\n",
    "    vl = np.array(vector_list[i])\n",
    "    similaritys.append(np.dot(v, vl.T))\n",
    "    print(f\"Embedding Model: {embedding_models[i]}, Similarity: {similaritys[i]}\") "
   ]
  },
  {
   "cell_type": "code",
   "execution_count": 99,
   "id": "6144982f-cc8c-4cee-b2a7-0fd42c38db5c",
   "metadata": {},
   "outputs": [
    {
     "name": "stdout",
     "output_type": "stream",
     "text": [
      "模型: text-search-ada-query-001\n",
      "用户输入的问题是: 瑶瑶是谁\n",
      "检索到最相似的文本是: 瑶瑶是谁? 瑶瑶是墨问西东的颜值担当，遥遥领先。\n",
      "相似度是: 0.8831386995198898\n",
      "\n",
      "模型: text-search-babbage-query-001\n",
      "用户输入的问题是: 瑶瑶是谁\n",
      "检索到最相似的文本是: 瑶瑶是谁? 瑶瑶是墨问西东的颜值担当，遥遥领先。\n",
      "相似度是: 0.8849086457408032\n",
      "\n",
      "模型: text-search-curie-query-001\n",
      "用户输入的问题是: 瑶瑶是谁\n",
      "检索到最相似的文本是: 瑶瑶是谁? 瑶瑶是墨问西东的颜值担当，遥遥领先。\n",
      "相似度是: 0.8836136223465909\n",
      "\n"
     ]
    }
   ],
   "source": [
    "# 第五步，找出最相似的原始文本（最大值的下标，然后去匹配文本）\n",
    "\n",
    "for i in range(len(embedding_models)):\n",
    "    idx = np.argmax(similaritys[i]) \n",
    "    print(f\"模型: {embedding_models[i]}\\n用户输入的问题是: {question}\\n检索到最相似的文本是: {knowledge_base[idx]}\\n相似度是: {similaritys[i][idx]}\\n\")"
   ]
  },
  {
   "cell_type": "code",
   "execution_count": null,
   "id": "caa06964-7bd8-4288-a4b3-49a5501e9f57",
   "metadata": {},
   "outputs": [],
   "source": [
    "# 第六步，根据结果定义策略\n",
    "\n",
    "# 例如三路两胜\n",
    "# 如果有2个或以上召回的答案是一样的，则采用\n",
    "\n",
    "# 例如权重\n",
    "# A模型权重60% B模型权重30% C模型权重10%\n",
    "# 阶梯式打分后进行排序\n",
    "# ..."
   ]
  },
  {
   "cell_type": "code",
   "execution_count": null,
   "id": "30b4e394-0cf0-49b6-97a6-6e488b0cfc20",
   "metadata": {},
   "outputs": [],
   "source": []
  },
  {
   "cell_type": "code",
   "execution_count": null,
   "id": "3fc1d4f6-6007-46a4-a594-1ae274d68ddb",
   "metadata": {},
   "outputs": [],
   "source": []
  },
  {
   "cell_type": "code",
   "execution_count": null,
   "id": "7a0b3c3f-f197-46ca-aa33-3ce66e7ed52b",
   "metadata": {},
   "outputs": [],
   "source": []
  },
  {
   "cell_type": "code",
   "execution_count": null,
   "id": "09830223-4a10-474c-927e-532fd1732de9",
   "metadata": {},
   "outputs": [],
   "source": []
  },
  {
   "cell_type": "markdown",
   "id": "cf93ac25-50ba-4dd5-8283-8de580aa7bf1",
   "metadata": {},
   "source": [
    "### 总结和回顾"
   ]
  },
  {
   "cell_type": "code",
   "execution_count": null,
   "id": "52460c0d-04fa-40a0-8458-473d1dfa6834",
   "metadata": {},
   "outputs": [],
   "source": []
  },
  {
   "cell_type": "code",
   "execution_count": null,
   "id": "ed78436a-1f03-430c-80dc-dede86e7732c",
   "metadata": {},
   "outputs": [],
   "source": []
  },
  {
   "cell_type": "code",
   "execution_count": null,
   "id": "ad06cbd7-1471-42b2-a2ab-4ef56404e0cc",
   "metadata": {},
   "outputs": [],
   "source": []
  }
 ],
 "metadata": {
  "kernelspec": {
   "display_name": "Python 3 (ipykernel)",
   "language": "python",
   "name": "python3"
  },
  "language_info": {
   "codemirror_mode": {
    "name": "ipython",
    "version": 3
   },
   "file_extension": ".py",
   "mimetype": "text/x-python",
   "name": "python",
   "nbconvert_exporter": "python",
   "pygments_lexer": "ipython3",
   "version": "3.11.5"
  }
 },
 "nbformat": 4,
 "nbformat_minor": 5
}
